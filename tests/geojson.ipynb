{
 "cells": [
  {
   "cell_type": "code",
   "execution_count": 1,
   "id": "0f0e4ce9",
   "metadata": {},
   "outputs": [],
   "source": [
    "import numpy as np\n",
    "import shapely\n",
    "import shapely.geometry as shg\n",
    "import geojson\n",
    "from pathlib import Path"
   ]
  },
  {
   "cell_type": "code",
   "execution_count": 15,
   "id": "f68919c9",
   "metadata": {},
   "outputs": [],
   "source": [
    "def geojson_reader(path):\n",
    "    \"\"\"Take a path or list of paths and return a list of LayerData tuples.\n",
    "\n",
    "    Readers are expected to return data as a list of tuples, where each tuple\n",
    "    is (data, [add_kwargs, [layer_type]]), \"add_kwargs\" and \"layer_type\" are\n",
    "    both optional.\n",
    "\n",
    "    Parameters\n",
    "    ----------\n",
    "    path : str or list of str\n",
    "        Path to file, or list of paths.\n",
    "\n",
    "    Returns\n",
    "    -------\n",
    "    layer_data : list of tuples\n",
    "        A list of LayerData tuples where each tuple in the list contains\n",
    "        (data, metadata, layer_type), where data is a numpy array, metadata is\n",
    "        a dict of keyword arguments for the corresponding viewer.add_* method\n",
    "        in napari, and layer_type is a lower-case string naming the type of layer.\n",
    "        Both \"meta\", and \"layer_type\" are optional. napari will default to\n",
    "        layer_type==\"image\" if not provided\n",
    "    \"\"\"\n",
    "    # handle both a string and a list of strings\n",
    "    paths = [path] if isinstance(path, str) else path\n",
    "    layers = []\n",
    "\n",
    "    defaults = dict(shape_edge_width=100, shape_edge_color='red', shape_face_color='blue', opacity=0.25,\n",
    "                    blending='opaque')\n",
    "\n",
    "    for pth in paths:\n",
    "        # for each GeoJSON file create a new layer (Shape)\n",
    "        layer_data = []\n",
    "        layer_shape_type = []\n",
    "        layer_shape_edge_width = []\n",
    "        layer_shape_edge_color = []\n",
    "        layer_shape_face_color = []\n",
    "        with open(pth, 'r') as fp:\n",
    "            geo = geojson.load(fp)\n",
    "            if geo[\"type\"].lower() != \"featurecollection\":\n",
    "                raise RuntimeError(\"Need a FeatureCollection as annotation! Got: \" + geo[\"type\"])\n",
    "            for obj in geo['features']:\n",
    "                shape = shg.shape(obj['geometry'])\n",
    "                if not shape.is_valid:\n",
    "                    # TODO: maybe raise an exception?\n",
    "                    print(\"Not a valid shape!\")\n",
    "                    continue\n",
    "                print(\"Type: \", shape.geom_type.lower())\n",
    "                if shape.geom_type.lower() == 'point':\n",
    "                    pass\n",
    "                elif shape.geom_type.lower() == 'linestring':\n",
    "                    pass\n",
    "                elif shape.geom_type.lower() == 'polygon':\n",
    "                    layer_shape_type.append('polygon')\n",
    "                else:\n",
    "                    continue\n",
    "\n",
    "                # TODO: replace with values read from 'properties' of each shape\n",
    "                layer_shape_edge_width.append(defaults['shape_edge_width'])\n",
    "                layer_shape_edge_color.append(defaults['shape_edge_color'])\n",
    "                layer_shape_face_color.append(defaults['shape_face_color'])\n",
    "\n",
    "                layer_data.append(geom2xy(shape)[:,(1,0)])\n",
    "\n",
    "        layers.append(\n",
    "            (layer_data,\n",
    "             {\n",
    "                 'shape_type': layer_shape_type,\n",
    "                 'edge_width': layer_shape_edge_width,\n",
    "                 'edge_color': layer_shape_edge_color,\n",
    "                 'face_color': layer_shape_face_color,\n",
    "                 'opacity': defaults['opacity'],\n",
    "                 'blending': defaults['blending']\n",
    "             },\n",
    "             'shapes')\n",
    "        )\n",
    "    return layers\n",
    "##\n",
    "\n",
    "\n",
    "def geom2xy(geom: shapely.geometry, as_type=None) -> np.array:\n",
    "    \"\"\"Return the coordinates of a 2D geometrical object as a numpy array (N x 2).\n",
    "\n",
    "    :param geom: shapely.geometry\n",
    "        a 2D geometrical object\n",
    "\n",
    "    :return:\n",
    "        numpy.array\n",
    "    \"\"\"\n",
    "    xy = list(zip(*geom.exterior.coords.xy))\n",
    "    if as_type is None:\n",
    "        z = np.array(xy)\n",
    "    else:\n",
    "        z = np.array(xy, dtype=as_type)\n",
    "\n",
    "    return z\n"
   ]
  },
  {
   "cell_type": "code",
   "execution_count": 16,
   "id": "e639b670",
   "metadata": {},
   "outputs": [
    {
     "name": "stdout",
     "output_type": "stream",
     "text": [
      "Not a valid shape!\n"
     ]
    }
   ],
   "source": [
    "res = geojson_reader(\"./SB001-T01-01-HE.annot.tissue.geojson\")"
   ]
  },
  {
   "cell_type": "code",
   "execution_count": 14,
   "id": "c7a3d7ed",
   "metadata": {},
   "outputs": [
    {
     "data": {
      "text/plain": [
       "[([],\n",
       "  {'shape_type': [],\n",
       "   'edge_width': [],\n",
       "   'edge_color': [],\n",
       "   'face_color': [],\n",
       "   'opacity': 0.25,\n",
       "   'blending': 'opaque'},\n",
       "  'shapes')]"
      ]
     },
     "execution_count": 14,
     "metadata": {},
     "output_type": "execute_result"
    }
   ],
   "source": [
    "res"
   ]
  },
  {
   "cell_type": "code",
   "execution_count": null,
   "id": "cb865f52",
   "metadata": {},
   "outputs": [],
   "source": []
  }
 ],
 "metadata": {
  "kernelspec": {
   "display_name": "Python 3 (ipykernel)",
   "language": "python",
   "name": "python3"
  },
  "language_info": {
   "codemirror_mode": {
    "name": "ipython",
    "version": 3
   },
   "file_extension": ".py",
   "mimetype": "text/x-python",
   "name": "python",
   "nbconvert_exporter": "python",
   "pygments_lexer": "ipython3",
   "version": "3.11.0"
  }
 },
 "nbformat": 4,
 "nbformat_minor": 5
}

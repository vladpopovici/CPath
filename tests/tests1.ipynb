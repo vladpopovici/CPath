{
 "cells": [
  {
   "cell_type": "markdown",
   "id": "cab3d1bc",
   "metadata": {},
   "source": [
    "Tests for OME-TIFF format\n",
    "===="
   ]
  },
  {
   "cell_type": "code",
   "execution_count": 2,
   "id": "c65a8fec",
   "metadata": {},
   "outputs": [],
   "source": [
    "img = \"../data/SB001-T01-01-HE.ome.tiff\""
   ]
  },
  {
   "cell_type": "code",
   "execution_count": 2,
   "id": "6c5bc53e",
   "metadata": {},
   "outputs": [],
   "source": [
    "import pyometiff as ome\n",
    "import tifffile"
   ]
  },
  {
   "cell_type": "code",
   "execution_count": 3,
   "id": "145dc93d",
   "metadata": {},
   "outputs": [],
   "source": [
    "reader = ome.OMETIFFReader(fpath=img)"
   ]
  },
  {
   "cell_type": "code",
   "execution_count": 4,
   "id": "3aee9682",
   "metadata": {},
   "outputs": [
    {
     "name": "stdout",
     "output_type": "stream",
     "text": [
      "key not found 'NoneType' object has no attribute 'iter'\n"
     ]
    }
   ],
   "source": [
    "try:\n",
    "    x, meta1, meta2 = reader.read()\n",
    "except e:\n",
    "    pass"
   ]
  },
  {
   "cell_type": "code",
   "execution_count": null,
   "id": "a6263047",
   "metadata": {
    "scrolled": true
   },
   "outputs": [],
   "source": [
    "help(reader.read)"
   ]
  },
  {
   "cell_type": "code",
   "execution_count": 7,
   "id": "207cccdb",
   "metadata": {},
   "outputs": [
    {
     "name": "stdout",
     "output_type": "stream",
     "text": [
      "Pages: 6\n",
      "(1394, 1749)\n"
     ]
    }
   ],
   "source": [
    "tif = tifffile.TiffFile(img)\n",
    "omexml_string = tif.ome_metadata\n",
    "print(\"Pages: {}\".format(len(tif.pages)))\n",
    "print(tif.pages[3].shape)"
   ]
  },
  {
   "cell_type": "code",
   "execution_count": 11,
   "id": "d2774d1b",
   "metadata": {},
   "outputs": [
    {
     "data": {
      "text/plain": [
       "(3, 170180, 88218)"
      ]
     },
     "execution_count": 11,
     "metadata": {},
     "output_type": "execute_result"
    }
   ],
   "source": [
    "tif.series[0].get_shape()"
   ]
  },
  {
   "cell_type": "code",
   "execution_count": 12,
   "id": "823ea40f",
   "metadata": {
    "scrolled": true
   },
   "outputs": [
    {
     "name": "stdout",
     "output_type": "stream",
     "text": [
      "key not found 'NoneType' object has no attribute 'iter'\n"
     ]
    },
    {
     "data": {
      "text/plain": [
       "{'Directory': '../data',\n",
       " 'Filename': 'SB001-T01-01-HE.ome.tiff',\n",
       " 'Extension': 'ome.tiff',\n",
       " 'ImageType': 'ometiff',\n",
       " 'TotalSeries': 2,\n",
       " 'SizeX': 88218,\n",
       " 'SizeY': 170180,\n",
       " 'SizeZ': 1,\n",
       " 'SizeC': 3,\n",
       " 'SizeT': 1,\n",
       " 'SizeS': 1,\n",
       " 'SizeB': 1,\n",
       " 'SizeM': 1,\n",
       " 'PhysicalSizeX': 0.23387573964497,\n",
       " 'PhysicalSizeXUnit': 'µm',\n",
       " 'PhysicalSizeY': 0.234330708661417,\n",
       " 'PhysicalSizeYUnit': 'µm',\n",
       " 'Sizes BF': [2, 1, 1, 3, 170180, 88218],\n",
       " 'DimOrder BF': 'XYZCT',\n",
       " 'DimOrder BF Array': 'TCZYX',\n",
       " 'ObjMag': '20.0',\n",
       " 'ObjID': 'Objective:0:0',\n",
       " 'DetectorModel': 'Hitachi_HV_F22CL',\n",
       " 'DetectorID': 'Detector:0:0',\n",
       " 'InstrumentID': 'Instrument:0',\n",
       " 'Channels': {None: {'ID': 'Channel:0:2', 'SamplesPerPixel': 1}},\n",
       " 'ImageIDs': [0, 1],\n",
       " 'AcquisitionDate': '2016-10-25T10:43:32',\n",
       " 'Name': '20x',\n",
       " 'DimOrder': 'TCZYX'}"
      ]
     },
     "execution_count": 12,
     "metadata": {},
     "output_type": "execute_result"
    }
   ],
   "source": [
    "reader.parse_metadata(omexml_string)"
   ]
  },
  {
   "cell_type": "code",
   "execution_count": 13,
   "id": "6ece7c55",
   "metadata": {},
   "outputs": [],
   "source": [
    "import aicsimageio as iio"
   ]
  },
  {
   "cell_type": "code",
   "execution_count": 14,
   "id": "30e84905",
   "metadata": {},
   "outputs": [
    {
     "name": "stderr",
     "output_type": "stream",
     "text": [
      "/home/vlad/miniconda3/envs/cpath/lib/python3.11/site-packages/ome_types/_convenience.py:106: FutureWarning: The default XML parser will be changing from 'xmlschema' to 'lxml' in version 0.4.0.  To silence this warning, please provide the `parser` argument, specifying either 'lxml' (to opt into the new behavior), or'xmlschema' (to retain the old behavior).\n",
      "  d = to_dict(os.fspath(xml), parser=parser, validate=validate)\n"
     ]
    }
   ],
   "source": [
    "reader = iio.readers.ome_tiff_reader.OmeTiffReader(img, parser='lxml')"
   ]
  },
  {
   "cell_type": "code",
   "execution_count": 15,
   "id": "b36ef630",
   "metadata": {},
   "outputs": [
    {
     "data": {
      "text/plain": [
       "[MapAnnotation(\n",
       "    id='Annotation:Resolution:0',\n",
       "    namespace='openmicroscopy.org/PyramidResolution',\n",
       "    value=Map(m=[<10 M>]),\n",
       " ),\n",
       " MapAnnotation(\n",
       "    id='Annotation:Resolution:1',\n",
       "    namespace='openmicroscopy.org/PyramidResolution',\n",
       "    value=Map(m=[<3 M>]),\n",
       " ),\n",
       " XMLAnnotation(\n",
       "    id='Annotation:0',\n",
       "    namespace='openmicroscopy.org/OriginalMetadata',\n",
       "    value=<Element '{http://www.openmicroscopy.org/Schemas/OME/2016-06}Value' at 0x7f8570dbe1b0>,\n",
       " ),\n",
       " XMLAnnotation(\n",
       "    id='Annotation:1',\n",
       "    namespace='openmicroscopy.org/OriginalMetadata',\n",
       "    value=<Element '{http://www.openmicroscopy.org/Schemas/OME/2016-06}Value' at 0x7f8570ed1210>,\n",
       " ),\n",
       " XMLAnnotation(\n",
       "    id='Annotation:2',\n",
       "    namespace='openmicroscopy.org/OriginalMetadata',\n",
       "    value=<Element '{http://www.openmicroscopy.org/Schemas/OME/2016-06}Value' at 0x7f8570ed15d0>,\n",
       " ),\n",
       " XMLAnnotation(\n",
       "    id='Annotation:3',\n",
       "    namespace='openmicroscopy.org/OriginalMetadata',\n",
       "    value=<Element '{http://www.openmicroscopy.org/Schemas/OME/2016-06}Value' at 0x7f8570ed1300>,\n",
       " ),\n",
       " XMLAnnotation(\n",
       "    id='Annotation:4',\n",
       "    namespace='openmicroscopy.org/OriginalMetadata',\n",
       "    value=<Element '{http://www.openmicroscopy.org/Schemas/OME/2016-06}Value' at 0x7f8570ed0fe0>,\n",
       " ),\n",
       " XMLAnnotation(\n",
       "    id='Annotation:5',\n",
       "    namespace='openmicroscopy.org/OriginalMetadata',\n",
       "    value=<Element '{http://www.openmicroscopy.org/Schemas/OME/2016-06}Value' at 0x7f8570ed0f90>,\n",
       " ),\n",
       " XMLAnnotation(\n",
       "    id='Annotation:6',\n",
       "    namespace='openmicroscopy.org/OriginalMetadata',\n",
       "    value=<Element '{http://www.openmicroscopy.org/Schemas/OME/2016-06}Value' at 0x7f8570ed1f30>,\n",
       " ),\n",
       " XMLAnnotation(\n",
       "    id='Annotation:7',\n",
       "    namespace='openmicroscopy.org/OriginalMetadata',\n",
       "    value=<Element '{http://www.openmicroscopy.org/Schemas/OME/2016-06}Value' at 0x7f8570ed2110>,\n",
       " ),\n",
       " XMLAnnotation(\n",
       "    id='Annotation:8',\n",
       "    namespace='openmicroscopy.org/OriginalMetadata',\n",
       "    value=<Element '{http://www.openmicroscopy.org/Schemas/OME/2016-06}Value' at 0x7f8570ed2250>,\n",
       " ),\n",
       " XMLAnnotation(\n",
       "    id='Annotation:9',\n",
       "    namespace='openmicroscopy.org/OriginalMetadata',\n",
       "    value=<Element '{http://www.openmicroscopy.org/Schemas/OME/2016-06}Value' at 0x7f8570ed2a70>,\n",
       " ),\n",
       " XMLAnnotation(\n",
       "    id='Annotation:10',\n",
       "    namespace='openmicroscopy.org/OriginalMetadata',\n",
       "    value=<Element '{http://www.openmicroscopy.org/Schemas/OME/2016-06}Value' at 0x7f8570ed23e0>,\n",
       " ),\n",
       " XMLAnnotation(\n",
       "    id='Annotation:11',\n",
       "    namespace='openmicroscopy.org/OriginalMetadata',\n",
       "    value=<Element '{http://www.openmicroscopy.org/Schemas/OME/2016-06}Value' at 0x7f8570ed28e0>,\n",
       " ),\n",
       " XMLAnnotation(\n",
       "    id='Annotation:12',\n",
       "    namespace='openmicroscopy.org/OriginalMetadata',\n",
       "    value=<Element '{http://www.openmicroscopy.org/Schemas/OME/2016-06}Value' at 0x7f8570ed29d0>,\n",
       " ),\n",
       " XMLAnnotation(\n",
       "    id='Annotation:13',\n",
       "    namespace='openmicroscopy.org/OriginalMetadata',\n",
       "    value=<Element '{http://www.openmicroscopy.org/Schemas/OME/2016-06}Value' at 0x7f8570ed2660>,\n",
       " ),\n",
       " XMLAnnotation(\n",
       "    id='Annotation:14',\n",
       "    namespace='openmicroscopy.org/OriginalMetadata',\n",
       "    value=<Element '{http://www.openmicroscopy.org/Schemas/OME/2016-06}Value' at 0x7f908c63c040>,\n",
       " ),\n",
       " XMLAnnotation(\n",
       "    id='Annotation:15',\n",
       "    namespace='openmicroscopy.org/OriginalMetadata',\n",
       "    value=<Element '{http://www.openmicroscopy.org/Schemas/OME/2016-06}Value' at 0x7f908c63c4a0>,\n",
       " ),\n",
       " XMLAnnotation(\n",
       "    id='Annotation:16',\n",
       "    namespace='openmicroscopy.org/OriginalMetadata',\n",
       "    value=<Element '{http://www.openmicroscopy.org/Schemas/OME/2016-06}Value' at 0x7f908c63d260>,\n",
       " ),\n",
       " XMLAnnotation(\n",
       "    id='Annotation:17',\n",
       "    namespace='openmicroscopy.org/OriginalMetadata',\n",
       "    value=<Element '{http://www.openmicroscopy.org/Schemas/OME/2016-06}Value' at 0x7f908c63d030>,\n",
       " ),\n",
       " XMLAnnotation(\n",
       "    id='Annotation:18',\n",
       "    namespace='openmicroscopy.org/OriginalMetadata',\n",
       "    value=<Element '{http://www.openmicroscopy.org/Schemas/OME/2016-06}Value' at 0x7f908c63d120>,\n",
       " ),\n",
       " XMLAnnotation(\n",
       "    id='Annotation:19',\n",
       "    namespace='openmicroscopy.org/OriginalMetadata',\n",
       "    value=<Element '{http://www.openmicroscopy.org/Schemas/OME/2016-06}Value' at 0x7f908c63cea0>,\n",
       " ),\n",
       " XMLAnnotation(\n",
       "    id='Annotation:20',\n",
       "    namespace='openmicroscopy.org/OriginalMetadata',\n",
       "    value=<Element '{http://www.openmicroscopy.org/Schemas/OME/2016-06}Value' at 0x7f908c63ccc0>,\n",
       " ),\n",
       " XMLAnnotation(\n",
       "    id='Annotation:21',\n",
       "    namespace='openmicroscopy.org/OriginalMetadata',\n",
       "    value=<Element '{http://www.openmicroscopy.org/Schemas/OME/2016-06}Value' at 0x7f908c63c7c0>,\n",
       " ),\n",
       " XMLAnnotation(\n",
       "    id='Annotation:22',\n",
       "    namespace='openmicroscopy.org/OriginalMetadata',\n",
       "    value=<Element '{http://www.openmicroscopy.org/Schemas/OME/2016-06}Value' at 0x7f908c63c8b0>,\n",
       " ),\n",
       " XMLAnnotation(\n",
       "    id='Annotation:23',\n",
       "    namespace='openmicroscopy.org/OriginalMetadata',\n",
       "    value=<Element '{http://www.openmicroscopy.org/Schemas/OME/2016-06}Value' at 0x7f908c63c0e0>,\n",
       " ),\n",
       " XMLAnnotation(\n",
       "    id='Annotation:24',\n",
       "    namespace='openmicroscopy.org/OriginalMetadata',\n",
       "    value=<Element '{http://www.openmicroscopy.org/Schemas/OME/2016-06}Value' at 0x7f908c63d940>,\n",
       " ),\n",
       " XMLAnnotation(\n",
       "    id='Annotation:25',\n",
       "    namespace='openmicroscopy.org/OriginalMetadata',\n",
       "    value=<Element '{http://www.openmicroscopy.org/Schemas/OME/2016-06}Value' at 0x7f8570b134c0>,\n",
       " ),\n",
       " XMLAnnotation(\n",
       "    id='Annotation:26',\n",
       "    namespace='openmicroscopy.org/OriginalMetadata',\n",
       "    value=<Element '{http://www.openmicroscopy.org/Schemas/OME/2016-06}Value' at 0x7f8570bd4630>,\n",
       " ),\n",
       " XMLAnnotation(\n",
       "    id='Annotation:27',\n",
       "    namespace='openmicroscopy.org/OriginalMetadata',\n",
       "    value=<Element '{http://www.openmicroscopy.org/Schemas/OME/2016-06}Value' at 0x7f8570bd77e0>,\n",
       " ),\n",
       " XMLAnnotation(\n",
       "    id='Annotation:28',\n",
       "    namespace='openmicroscopy.org/OriginalMetadata',\n",
       "    value=<Element '{http://www.openmicroscopy.org/Schemas/OME/2016-06}Value' at 0x7f8570b759e0>,\n",
       " ),\n",
       " XMLAnnotation(\n",
       "    id='Annotation:29',\n",
       "    namespace='openmicroscopy.org/OriginalMetadata',\n",
       "    value=<Element '{http://www.openmicroscopy.org/Schemas/OME/2016-06}Value' at 0x7f8570b75da0>,\n",
       " )]"
      ]
     },
     "execution_count": 15,
     "metadata": {},
     "output_type": "execute_result"
    }
   ],
   "source": [
    "reader.metadata.structured_annotations"
   ]
  },
  {
   "cell_type": "code",
   "execution_count": null,
   "id": "86401a22",
   "metadata": {},
   "outputs": [],
   "source": [
    "reader.physical_pixel_sizes"
   ]
  },
  {
   "cell_type": "code",
   "execution_count": null,
   "id": "9adefb49",
   "metadata": {},
   "outputs": [],
   "source": [
    "reader.scenes"
   ]
  },
  {
   "cell_type": "code",
   "execution_count": 16,
   "id": "ac4cd512",
   "metadata": {},
   "outputs": [
    {
     "name": "stdout",
     "output_type": "stream",
     "text": [
      "Help on method get_image_data in module aicsimageio.readers.reader:\n",
      "\n",
      "get_image_data(dimension_order_out: Optional[str] = None, **kwargs: Any) -> numpy.ndarray method of aicsimageio.readers.ome_tiff_reader.OmeTiffReader instance\n",
      "    Read the image as a numpy array then return specific dimension image data.\n",
      "    \n",
      "    Parameters\n",
      "    ----------\n",
      "    dimension_order_out: Optional[str]\n",
      "        A string containing the dimension ordering desired for the returned ndarray.\n",
      "        Default: The natural image dimension order.\n",
      "    \n",
      "    kwargs: Any\n",
      "        * C=1: specifies Channel 1\n",
      "        * T=3: specifies the fourth index in T\n",
      "        * D=n: D is Dimension letter and n is the index desired. D should not be\n",
      "          present in the dimension_order_out.\n",
      "        * D=[a, b, c]: D is Dimension letter and a, b, c is the list of indices\n",
      "          desired. D should be present in the dimension_order_out.\n",
      "        * D=(a, b, c): D is Dimension letter and a, b, c is the tuple of indices\n",
      "          desired. D should be present in the dimension_order_out.\n",
      "        * D=range(...): D is Dimension letter and range is the standard Python\n",
      "          range function. D should be present in the dimension_order_out.\n",
      "        * D=slice(...): D is Dimension letter and slice is the standard Python\n",
      "          slice function. D should be present in the dimension_order_out.\n",
      "    \n",
      "    Returns\n",
      "    -------\n",
      "    data: np.ndarray\n",
      "        The image data with the specified dimension ordering.\n",
      "    \n",
      "    Examples\n",
      "    --------\n",
      "    Specific index selection\n",
      "    \n",
      "    >>> img = Reader(\"s_1_t_1_c_10_z_20.ome.tiff\")\n",
      "    ... c1 = img.get_image_data(\"ZYX\", C=1)\n",
      "    \n",
      "    List of index selection\n",
      "    \n",
      "    >>> img = Reader(\"s_1_t_1_c_10_z_20.ome.tiff\")\n",
      "    ... first_and_second = img.get_image_data(\"CZYX\", C=[0, 1])\n",
      "    \n",
      "    Tuple of index selection\n",
      "    \n",
      "    >>> img = Reader(\"s_1_t_1_c_10_z_20.ome.tiff\")\n",
      "    ... first_and_last = img.get_image_data(\"CZYX\", C=(0, -1))\n",
      "    \n",
      "    Range of index selection\n",
      "    \n",
      "    >>> img = Reader(\"s_1_t_1_c_10_z_20.ome.tiff\")\n",
      "    ... first_three = img.get_image_dask_data(\"CZYX\", C=range(3))\n",
      "    \n",
      "    Slice selection\n",
      "    \n",
      "    >>> img = Reader(\"s_1_t_1_c_10_z_20.ome.tiff\")\n",
      "    ... every_other = img.get_image_data(\"CZYX\", C=slice(0, -1, 2))\n",
      "    \n",
      "    Notes\n",
      "    -----\n",
      "    * If a requested dimension is not present in the data the dimension is\n",
      "      added with a depth of 1.\n",
      "    * This will preload the entire image before returning the requested data.\n",
      "    \n",
      "    See `aicsimageio.transforms.reshape_data` for more details.\n",
      "\n"
     ]
    }
   ],
   "source": [
    "help(reader.get_image_data)"
   ]
  },
  {
   "cell_type": "code",
   "execution_count": 2,
   "id": "96ee2a02",
   "metadata": {},
   "outputs": [],
   "source": [
    "import ome_zarr.reader\n",
    "import ome_zarr.scale\n",
    "import ome_zarr.utils"
   ]
  },
  {
   "cell_type": "code",
   "execution_count": 3,
   "id": "06621f73",
   "metadata": {},
   "outputs": [],
   "source": [
    "img = '/fastdata/tmp/SB001-T01-01-HE.zarr'"
   ]
  },
  {
   "cell_type": "code",
   "execution_count": 7,
   "id": "bf03f4ff",
   "metadata": {},
   "outputs": [],
   "source": [
    "img_url = ome_zarr.io.parse_url(img, mode='r')\n",
    "zr = ome_zarr.reader.Reader(img_url).zarr"
   ]
  },
  {
   "cell_type": "code",
   "execution_count": 22,
   "id": "0c3f30bb",
   "metadata": {},
   "outputs": [],
   "source": [
    "zs = ome_zarr.io.parse_url(img, mode='r').store\n",
    "zr = ome_zarr.reader.Reader(img_url)"
   ]
  },
  {
   "cell_type": "code",
   "execution_count": 38,
   "id": "bdf77e7f",
   "metadata": {
    "scrolled": true
   },
   "outputs": [
    {
     "ename": "TypeError",
     "evalue": "'OMERO' object is not iterable",
     "output_type": "error",
     "traceback": [
      "\u001b[0;31m---------------------------------------------------------------------------\u001b[0m",
      "\u001b[0;31mTypeError\u001b[0m                                 Traceback (most recent call last)",
      "Cell \u001b[0;32mIn[38], line 1\u001b[0m\n\u001b[0;32m----> 1\u001b[0m \u001b[38;5;28;43mlist\u001b[39;49m\u001b[43m(\u001b[49m\u001b[43mome_zarr\u001b[49m\u001b[38;5;241;43m.\u001b[39;49m\u001b[43mreader\u001b[49m\u001b[38;5;241;43m.\u001b[39;49m\u001b[43mOMERO\u001b[49m\u001b[43m(\u001b[49m\u001b[43mzr\u001b[49m\u001b[43m)\u001b[49m\u001b[43m)\u001b[49m\n",
      "\u001b[0;31mTypeError\u001b[0m: 'OMERO' object is not iterable"
     ]
    }
   ],
   "source": [
    "list(ome_zarr.reader.OMERO(zr))"
   ]
  },
  {
   "cell_type": "code",
   "execution_count": 45,
   "id": "3d3905de",
   "metadata": {},
   "outputs": [],
   "source": [
    "x = zr.zarr.load(\"0/7\").compute()[0,:,0,...]"
   ]
  },
  {
   "cell_type": "code",
   "execution_count": 46,
   "id": "9934fd97",
   "metadata": {},
   "outputs": [
    {
     "data": {
      "text/plain": [
       "(3, 1329, 689)"
      ]
     },
     "execution_count": 46,
     "metadata": {},
     "output_type": "execute_result"
    }
   ],
   "source": [
    "x.shape"
   ]
  },
  {
   "cell_type": "code",
   "execution_count": 52,
   "id": "5dcc4688",
   "metadata": {},
   "outputs": [],
   "source": [
    "import matplotlib.pyplot as plt\n",
    "import numpy"
   ]
  },
  {
   "cell_type": "code",
   "execution_count": 56,
   "id": "38249cdf",
   "metadata": {},
   "outputs": [
    {
     "data": {
      "text/plain": [
       "<matplotlib.image.AxesImage at 0x7f60802f8d10>"
      ]
     },
     "execution_count": 56,
     "metadata": {},
     "output_type": "execute_result"
    },
    {
     "data": {
      "image/png": "[encoded data removed]",
      "text/plain": [
       "<Figure size 640x480 with 1 Axes>"
      ]
     },
     "metadata": {},
     "output_type": "display_data"
    }
   ],
   "source": [
    "plt.imshow(numpy.swapaxes(numpy.swapaxes(x, 0, 2), 1, 0))"
   ]
  },
  {
   "cell_type": "code",
   "execution_count": 57,
   "id": "c6ccdfd5",
   "metadata": {},
   "outputs": [],
   "source": [
    "from ome_types import from_xml"
   ]
  },
  {
   "cell_type": "code",
   "execution_count": 60,
   "id": "ea85b1f1",
   "metadata": {},
   "outputs": [],
   "source": [
    "ome = from_xml(img + '/OME/METADATA.ome.xml', parser='lxml')"
   ]
  },
  {
   "cell_type": "code",
   "execution_count": 62,
   "id": "67be80f9",
   "metadata": {
    "scrolled": true
   },
   "outputs": [
    {
     "data": {
      "text/plain": [
       "[Image(\n",
       "    id='Image:0',\n",
       "    name='20x',\n",
       "    pixels=Pixels(\n",
       "       id='Pixels:0',\n",
       "       dimension_order='XYZCT',\n",
       "       size_c=3,\n",
       "       size_t=1,\n",
       "       size_x=88218,\n",
       "       size_y=170180,\n",
       "       size_z=1,\n",
       "       type='uint8',\n",
       "       big_endian=True,\n",
       "       channels=[<3 Channels>],\n",
       "       interleaved=False,\n",
       "       metadata_only=True,\n",
       "       physical_size_x=0.23387573964497,\n",
       "       physical_size_y=0.234330708661417,\n",
       "       planes=[<3 Planes>],\n",
       "       significant_bits=8,\n",
       "    ),\n",
       "    acquisition_date=datetime.fromisoformat('2016-10-25T10:43:32'),\n",
       "    description='2EBDF371649E42C39410FAD49F6C6B5F',\n",
       "    instrument_ref=InstrumentRef(id='Instrument:0'),\n",
       "    objective_settings=ObjectiveSettings(id='Objective:0:0'),\n",
       " ),\n",
       " Image(\n",
       "    id='Image:1',\n",
       "    name='label image',\n",
       "    pixels=Pixels(\n",
       "       id='Pixels:1',\n",
       "       dimension_order='XYZCT',\n",
       "       size_c=3,\n",
       "       size_t=1,\n",
       "       size_x=1749,\n",
       "       size_y=1394,\n",
       "       size_z=1,\n",
       "       type='uint8',\n",
       "       big_endian=True,\n",
       "       channels=[<3 Channels>],\n",
       "       interleaved=False,\n",
       "       metadata_only=True,\n",
       "       planes=[<3 Planes>],\n",
       "       significant_bits=8,\n",
       "    ),\n",
       " )]"
      ]
     },
     "execution_count": 62,
     "metadata": {},
     "output_type": "execute_result"
    }
   ],
   "source": [
    "ome.images"
   ]
  },
  {
   "cell_type": "code",
   "execution_count": 64,
   "id": "dd95aff3",
   "metadata": {},
   "outputs": [
    {
     "data": {
      "text/plain": [
       "{'binary_only': None,\n",
       " 'creator': None,\n",
       " 'datasets': [],\n",
       " 'experimenter_groups': [],\n",
       " 'experimenters': [],\n",
       " 'experiments': [],\n",
       " 'folders': [],\n",
       " 'images': [{'id': 'Image:0',\n",
       "   'pixels': {'dimension_order': <DimensionOrder.XYZCT: 'XYZCT'>,\n",
       "    'id': 'Pixels:0',\n",
       "    'size_c': 3,\n",
       "    'size_t': 1,\n",
       "    'size_x': 88218,\n",
       "    'size_y': 170180,\n",
       "    'size_z': 1,\n",
       "    'type': <PixelType.UINT8: 'uint8'>,\n",
       "    'big_endian': True,\n",
       "    'bin_data': [],\n",
       "    'channels': [{'id': 'Channel:0:0',\n",
       "      'acquisition_mode': None,\n",
       "      'annotation_ref': [],\n",
       "      'color': Color('white', rgb=(255, 255, 255)),\n",
       "      'contrast_method': None,\n",
       "      'detector_settings': None,\n",
       "      'emission_wavelength': None,\n",
       "      'emission_wavelength_unit': <UnitsLength.NANOMETER: 'nm'>,\n",
       "      'excitation_wavelength': None,\n",
       "      'excitation_wavelength_unit': <UnitsLength.NANOMETER: 'nm'>,\n",
       "      'filter_set_ref': None,\n",
       "      'fluor': None,\n",
       "      'illumination_type': None,\n",
       "      'light_path': None,\n",
       "      'light_source_settings': None,\n",
       "      'name': None,\n",
       "      'nd_filter': None,\n",
       "      'pinhole_size': None,\n",
       "      'pinhole_size_unit': <UnitsLength.MICROMETER: 'µm'>,\n",
       "      'pockel_cell_setting': None,\n",
       "      'samples_per_pixel': 1},\n",
       "     {'id': 'Channel:0:1',\n",
       "      'acquisition_mode': None,\n",
       "      'annotation_ref': [],\n",
       "      'color': Color('white', rgb=(255, 255, 255)),\n",
       "      'contrast_method': None,\n",
       "      'detector_settings': None,\n",
       "      'emission_wavelength': None,\n",
       "      'emission_wavelength_unit': <UnitsLength.NANOMETER: 'nm'>,\n",
       "      'excitation_wavelength': None,\n",
       "      'excitation_wavelength_unit': <UnitsLength.NANOMETER: 'nm'>,\n",
       "      'filter_set_ref': None,\n",
       "      'fluor': None,\n",
       "      'illumination_type': None,\n",
       "      'light_path': None,\n",
       "      'light_source_settings': None,\n",
       "      'name': None,\n",
       "      'nd_filter': None,\n",
       "      'pinhole_size': None,\n",
       "      'pinhole_size_unit': <UnitsLength.MICROMETER: 'µm'>,\n",
       "      'pockel_cell_setting': None,\n",
       "      'samples_per_pixel': 1},\n",
       "     {'id': 'Channel:0:2',\n",
       "      'acquisition_mode': None,\n",
       "      'annotation_ref': [],\n",
       "      'color': Color('white', rgb=(255, 255, 255)),\n",
       "      'contrast_method': None,\n",
       "      'detector_settings': None,\n",
       "      'emission_wavelength': None,\n",
       "      'emission_wavelength_unit': <UnitsLength.NANOMETER: 'nm'>,\n",
       "      'excitation_wavelength': None,\n",
       "      'excitation_wavelength_unit': <UnitsLength.NANOMETER: 'nm'>,\n",
       "      'filter_set_ref': None,\n",
       "      'fluor': None,\n",
       "      'illumination_type': None,\n",
       "      'light_path': None,\n",
       "      'light_source_settings': None,\n",
       "      'name': None,\n",
       "      'nd_filter': None,\n",
       "      'pinhole_size': None,\n",
       "      'pinhole_size_unit': <UnitsLength.MICROMETER: 'µm'>,\n",
       "      'pockel_cell_setting': None,\n",
       "      'samples_per_pixel': 1}],\n",
       "    'interleaved': False,\n",
       "    'metadata_only': True,\n",
       "    'physical_size_x': 0.23387573964497,\n",
       "    'physical_size_x_unit': <UnitsLength.MICROMETER: 'µm'>,\n",
       "    'physical_size_y': 0.234330708661417,\n",
       "    'physical_size_y_unit': <UnitsLength.MICROMETER: 'µm'>,\n",
       "    'physical_size_z': None,\n",
       "    'physical_size_z_unit': <UnitsLength.MICROMETER: 'µm'>,\n",
       "    'planes': [{'the_c': 0,\n",
       "      'the_t': 0,\n",
       "      'the_z': 0,\n",
       "      'annotation_ref': [],\n",
       "      'delta_t': None,\n",
       "      'delta_t_unit': <UnitsTime.SECOND: 's'>,\n",
       "      'exposure_time': None,\n",
       "      'exposure_time_unit': <UnitsTime.SECOND: 's'>,\n",
       "      'hash_sha1': None,\n",
       "      'position_x': 8448.0,\n",
       "      'position_x_unit': <UnitsLength.PIXEL: 'pixel'>,\n",
       "      'position_y': 57344.0,\n",
       "      'position_y_unit': <UnitsLength.PIXEL: 'pixel'>,\n",
       "      'position_z': None,\n",
       "      'position_z_unit': <UnitsLength.REFERENCEFRAME: 'reference frame'>},\n",
       "     {'the_c': 1,\n",
       "      'the_t': 0,\n",
       "      'the_z': 0,\n",
       "      'annotation_ref': [],\n",
       "      'delta_t': None,\n",
       "      'delta_t_unit': <UnitsTime.SECOND: 's'>,\n",
       "      'exposure_time': None,\n",
       "      'exposure_time_unit': <UnitsTime.SECOND: 's'>,\n",
       "      'hash_sha1': None,\n",
       "      'position_x': None,\n",
       "      'position_x_unit': <UnitsLength.REFERENCEFRAME: 'reference frame'>,\n",
       "      'position_y': None,\n",
       "      'position_y_unit': <UnitsLength.REFERENCEFRAME: 'reference frame'>,\n",
       "      'position_z': None,\n",
       "      'position_z_unit': <UnitsLength.REFERENCEFRAME: 'reference frame'>},\n",
       "     {'the_c': 2,\n",
       "      'the_t': 0,\n",
       "      'the_z': 0,\n",
       "      'annotation_ref': [],\n",
       "      'delta_t': None,\n",
       "      'delta_t_unit': <UnitsTime.SECOND: 's'>,\n",
       "      'exposure_time': None,\n",
       "      'exposure_time_unit': <UnitsTime.SECOND: 's'>,\n",
       "      'hash_sha1': None,\n",
       "      'position_x': None,\n",
       "      'position_x_unit': <UnitsLength.REFERENCEFRAME: 'reference frame'>,\n",
       "      'position_y': None,\n",
       "      'position_y_unit': <UnitsLength.REFERENCEFRAME: 'reference frame'>,\n",
       "      'position_z': None,\n",
       "      'position_z_unit': <UnitsLength.REFERENCEFRAME: 'reference frame'>}],\n",
       "    'significant_bits': 8,\n",
       "    'tiff_data_blocks': [],\n",
       "    'time_increment': None,\n",
       "    'time_increment_unit': <UnitsTime.SECOND: 's'>},\n",
       "   'acquisition_date': datetime.datetime(2016, 10, 25, 10, 43, 32),\n",
       "   'annotation_ref': [],\n",
       "   'description': '2EBDF371649E42C39410FAD49F6C6B5F',\n",
       "   'experiment_ref': None,\n",
       "   'experimenter_group_ref': None,\n",
       "   'experimenter_ref': None,\n",
       "   'imaging_environment': None,\n",
       "   'instrument_ref': {'id': 'Instrument:0'},\n",
       "   'microbeam_manipulation_ref': [],\n",
       "   'name': '20x',\n",
       "   'objective_settings': {'id': 'Objective:0:0',\n",
       "    'correction_collar': None,\n",
       "    'medium': None,\n",
       "    'refractive_index': None},\n",
       "   'roi_ref': [],\n",
       "   'stage_label': None},\n",
       "  {'id': 'Image:1',\n",
       "   'pixels': {'dimension_order': <DimensionOrder.XYZCT: 'XYZCT'>,\n",
       "    'id': 'Pixels:1',\n",
       "    'size_c': 3,\n",
       "    'size_t': 1,\n",
       "    'size_x': 1749,\n",
       "    'size_y': 1394,\n",
       "    'size_z': 1,\n",
       "    'type': <PixelType.UINT8: 'uint8'>,\n",
       "    'big_endian': True,\n",
       "    'bin_data': [],\n",
       "    'channels': [{'id': 'Channel:1:0',\n",
       "      'acquisition_mode': None,\n",
       "      'annotation_ref': [],\n",
       "      'color': Color('white', rgb=(255, 255, 255)),\n",
       "      'contrast_method': None,\n",
       "      'detector_settings': None,\n",
       "      'emission_wavelength': None,\n",
       "      'emission_wavelength_unit': <UnitsLength.NANOMETER: 'nm'>,\n",
       "      'excitation_wavelength': None,\n",
       "      'excitation_wavelength_unit': <UnitsLength.NANOMETER: 'nm'>,\n",
       "      'filter_set_ref': None,\n",
       "      'fluor': None,\n",
       "      'illumination_type': None,\n",
       "      'light_path': None,\n",
       "      'light_source_settings': None,\n",
       "      'name': None,\n",
       "      'nd_filter': None,\n",
       "      'pinhole_size': None,\n",
       "      'pinhole_size_unit': <UnitsLength.MICROMETER: 'µm'>,\n",
       "      'pockel_cell_setting': None,\n",
       "      'samples_per_pixel': 1},\n",
       "     {'id': 'Channel:1:1',\n",
       "      'acquisition_mode': None,\n",
       "      'annotation_ref': [],\n",
       "      'color': Color('white', rgb=(255, 255, 255)),\n",
       "      'contrast_method': None,\n",
       "      'detector_settings': None,\n",
       "      'emission_wavelength': None,\n",
       "      'emission_wavelength_unit': <UnitsLength.NANOMETER: 'nm'>,\n",
       "      'excitation_wavelength': None,\n",
       "      'excitation_wavelength_unit': <UnitsLength.NANOMETER: 'nm'>,\n",
       "      'filter_set_ref': None,\n",
       "      'fluor': None,\n",
       "      'illumination_type': None,\n",
       "      'light_path': None,\n",
       "      'light_source_settings': None,\n",
       "      'name': None,\n",
       "      'nd_filter': None,\n",
       "      'pinhole_size': None,\n",
       "      'pinhole_size_unit': <UnitsLength.MICROMETER: 'µm'>,\n",
       "      'pockel_cell_setting': None,\n",
       "      'samples_per_pixel': 1},\n",
       "     {'id': 'Channel:1:2',\n",
       "      'acquisition_mode': None,\n",
       "      'annotation_ref': [],\n",
       "      'color': Color('white', rgb=(255, 255, 255)),\n",
       "      'contrast_method': None,\n",
       "      'detector_settings': None,\n",
       "      'emission_wavelength': None,\n",
       "      'emission_wavelength_unit': <UnitsLength.NANOMETER: 'nm'>,\n",
       "      'excitation_wavelength': None,\n",
       "      'excitation_wavelength_unit': <UnitsLength.NANOMETER: 'nm'>,\n",
       "      'filter_set_ref': None,\n",
       "      'fluor': None,\n",
       "      'illumination_type': None,\n",
       "      'light_path': None,\n",
       "      'light_source_settings': None,\n",
       "      'name': None,\n",
       "      'nd_filter': None,\n",
       "      'pinhole_size': None,\n",
       "      'pinhole_size_unit': <UnitsLength.MICROMETER: 'µm'>,\n",
       "      'pockel_cell_setting': None,\n",
       "      'samples_per_pixel': 1}],\n",
       "    'interleaved': False,\n",
       "    'metadata_only': True,\n",
       "    'physical_size_x': None,\n",
       "    'physical_size_x_unit': <UnitsLength.MICROMETER: 'µm'>,\n",
       "    'physical_size_y': None,\n",
       "    'physical_size_y_unit': <UnitsLength.MICROMETER: 'µm'>,\n",
       "    'physical_size_z': None,\n",
       "    'physical_size_z_unit': <UnitsLength.MICROMETER: 'µm'>,\n",
       "    'planes': [{'the_c': 0,\n",
       "      'the_t': 0,\n",
       "      'the_z': 0,\n",
       "      'annotation_ref': [],\n",
       "      'delta_t': None,\n",
       "      'delta_t_unit': <UnitsTime.SECOND: 's'>,\n",
       "      'exposure_time': None,\n",
       "      'exposure_time_unit': <UnitsTime.SECOND: 's'>,\n",
       "      'hash_sha1': None,\n",
       "      'position_x': None,\n",
       "      'position_x_unit': <UnitsLength.REFERENCEFRAME: 'reference frame'>,\n",
       "      'position_y': None,\n",
       "      'position_y_unit': <UnitsLength.REFERENCEFRAME: 'reference frame'>,\n",
       "      'position_z': None,\n",
       "      'position_z_unit': <UnitsLength.REFERENCEFRAME: 'reference frame'>},\n",
       "     {'the_c': 1,\n",
       "      'the_t': 0,\n",
       "      'the_z': 0,\n",
       "      'annotation_ref': [],\n",
       "      'delta_t': None,\n",
       "      'delta_t_unit': <UnitsTime.SECOND: 's'>,\n",
       "      'exposure_time': None,\n",
       "      'exposure_time_unit': <UnitsTime.SECOND: 's'>,\n",
       "      'hash_sha1': None,\n",
       "      'position_x': None,\n",
       "      'position_x_unit': <UnitsLength.REFERENCEFRAME: 'reference frame'>,\n",
       "      'position_y': None,\n",
       "      'position_y_unit': <UnitsLength.REFERENCEFRAME: 'reference frame'>,\n",
       "      'position_z': None,\n",
       "      'position_z_unit': <UnitsLength.REFERENCEFRAME: 'reference frame'>},\n",
       "     {'the_c': 2,\n",
       "      'the_t': 0,\n",
       "      'the_z': 0,\n",
       "      'annotation_ref': [],\n",
       "      'delta_t': None,\n",
       "      'delta_t_unit': <UnitsTime.SECOND: 's'>,\n",
       "      'exposure_time': None,\n",
       "      'exposure_time_unit': <UnitsTime.SECOND: 's'>,\n",
       "      'hash_sha1': None,\n",
       "      'position_x': None,\n",
       "      'position_x_unit': <UnitsLength.REFERENCEFRAME: 'reference frame'>,\n",
       "      'position_y': None,\n",
       "      'position_y_unit': <UnitsLength.REFERENCEFRAME: 'reference frame'>,\n",
       "      'position_z': None,\n",
       "      'position_z_unit': <UnitsLength.REFERENCEFRAME: 'reference frame'>}],\n",
       "    'significant_bits': 8,\n",
       "    'tiff_data_blocks': [],\n",
       "    'time_increment': None,\n",
       "    'time_increment_unit': <UnitsTime.SECOND: 's'>},\n",
       "   'acquisition_date': None,\n",
       "   'annotation_ref': [],\n",
       "   'description': None,\n",
       "   'experiment_ref': None,\n",
       "   'experimenter_group_ref': None,\n",
       "   'experimenter_ref': None,\n",
       "   'imaging_environment': None,\n",
       "   'instrument_ref': None,\n",
       "   'microbeam_manipulation_ref': [],\n",
       "   'name': 'label image',\n",
       "   'objective_settings': None,\n",
       "   'roi_ref': [],\n",
       "   'stage_label': None}],\n",
       " 'instruments': [{'id': 'Instrument:0',\n",
       "   'annotation_ref': [],\n",
       "   'detectors': [{'lot_number': None,\n",
       "     'manufacturer': None,\n",
       "     'model': 'Hitachi_HV_F22CL',\n",
       "     'serial_number': None,\n",
       "     'id': 'Detector:0:0',\n",
       "     'amplification_gain': None,\n",
       "     'annotation_ref': [],\n",
       "     'gain': None,\n",
       "     'offset': None,\n",
       "     'type': None,\n",
       "     'voltage': None,\n",
       "     'voltage_unit': <UnitsElectricPotential.VOLT: 'V'>,\n",
       "     'zoom': None}],\n",
       "   'dichroics': [],\n",
       "   'filter_sets': [],\n",
       "   'filters': [],\n",
       "   'light_source_group': [],\n",
       "   'microscope': None,\n",
       "   'objectives': [{'lot_number': None,\n",
       "     'manufacturer': None,\n",
       "     'model': 'Plan-Apochromat',\n",
       "     'serial_number': None,\n",
       "     'id': 'Objective:0:0',\n",
       "     'annotation_ref': [],\n",
       "     'calibrated_magnification': None,\n",
       "     'correction': None,\n",
       "     'immersion': None,\n",
       "     'iris': None,\n",
       "     'lens_na': None,\n",
       "     'nominal_magnification': 20.0,\n",
       "     'working_distance': None,\n",
       "     'working_distance_unit': <UnitsLength.MICROMETER: 'µm'>}]}],\n",
       " 'plates': [],\n",
       " 'projects': [],\n",
       " 'rights': None,\n",
       " 'rois': [],\n",
       " 'screens': [],\n",
       " 'structured_annotations': [{'id': 'Annotation:0',\n",
       "   'annotation_ref': [],\n",
       "   'annotator': None,\n",
       "   'description': None,\n",
       "   'namespace': 'openmicroscopy.org/OriginalMetadata',\n",
       "   'value': '<ns0:Value xmlns:ns0=\"http://www.openmicroscopy.org/Schemas/OME/2016-06\"><ns0:OriginalMetadata><ns0:Key>VIMSLIDE_CP_COLOR_BALANCE_BLUE</ns0:Key><ns0:Value>0</ns0:Value></ns0:OriginalMetadata></ns0:Value>'},\n",
       "  {'id': 'Annotation:1',\n",
       "   'annotation_ref': [],\n",
       "   'annotator': None,\n",
       "   'description': None,\n",
       "   'namespace': 'openmicroscopy.org/OriginalMetadata',\n",
       "   'value': '<ns0:Value xmlns:ns0=\"http://www.openmicroscopy.org/Schemas/OME/2016-06\"><ns0:OriginalMetadata><ns0:Key>VIMSLIDE_CP_COLOR_BALANCE_GREEN</ns0:Key><ns0:Value>0</ns0:Value></ns0:OriginalMetadata></ns0:Value>'},\n",
       "  {'id': 'Annotation:2',\n",
       "   'annotation_ref': [],\n",
       "   'annotator': None,\n",
       "   'description': None,\n",
       "   'namespace': 'openmicroscopy.org/OriginalMetadata',\n",
       "   'value': '<ns0:Value xmlns:ns0=\"http://www.openmicroscopy.org/Schemas/OME/2016-06\"><ns0:OriginalMetadata><ns0:Key>VIMSLIDE_CP_GAMMA</ns0:Key><ns0:Value>1</ns0:Value></ns0:OriginalMetadata></ns0:Value>'},\n",
       "  {'id': 'Annotation:3',\n",
       "   'annotation_ref': [],\n",
       "   'annotator': None,\n",
       "   'description': None,\n",
       "   'namespace': 'openmicroscopy.org/OriginalMetadata',\n",
       "   'value': '<ns0:Value xmlns:ns0=\"http://www.openmicroscopy.org/Schemas/OME/2016-06\"><ns0:OriginalMetadata><ns0:Key>PROJECT_NAME</ns0:Key><ns0:Value>ProjectName</ns0:Value></ns0:OriginalMetadata></ns0:Value>'},\n",
       "  {'id': 'Annotation:4',\n",
       "   'annotation_ref': [],\n",
       "   'annotator': None,\n",
       "   'description': None,\n",
       "   'namespace': 'openmicroscopy.org/OriginalMetadata',\n",
       "   'value': '<ns0:Value xmlns:ns0=\"http://www.openmicroscopy.org/Schemas/OME/2016-06\"><ns0:OriginalMetadata><ns0:Key>OPTOVAR_SIZE</ns0:Key><ns0:Value>1</ns0:Value></ns0:OriginalMetadata></ns0:Value>'},\n",
       "  {'id': 'Annotation:5',\n",
       "   'annotation_ref': [],\n",
       "   'annotator': None,\n",
       "   'description': None,\n",
       "   'namespace': 'openmicroscopy.org/OriginalMetadata',\n",
       "   'value': '<ns0:Value xmlns:ns0=\"http://www.openmicroscopy.org/Schemas/OME/2016-06\"><ns0:OriginalMetadata><ns0:Key>CameraImageDivisionsPerSide</ns0:Key><ns0:Value>4</ns0:Value></ns0:OriginalMetadata></ns0:Value>'},\n",
       "  {'id': 'Annotation:6',\n",
       "   'annotation_ref': [],\n",
       "   'annotator': None,\n",
       "   'description': None,\n",
       "   'namespace': 'openmicroscopy.org/OriginalMetadata',\n",
       "   'value': '<ns0:Value xmlns:ns0=\"http://www.openmicroscopy.org/Schemas/OME/2016-06\"><ns0:OriginalMetadata><ns0:Key>VIMSLIDE_CAMERA_REAL_BITDEPTH</ns0:Key><ns0:Value>10</ns0:Value></ns0:OriginalMetadata></ns0:Value>'},\n",
       "  {'id': 'Annotation:7',\n",
       "   'annotation_ref': [],\n",
       "   'annotator': None,\n",
       "   'description': None,\n",
       "   'namespace': 'openmicroscopy.org/OriginalMetadata',\n",
       "   'value': '<ns0:Value xmlns:ns0=\"http://www.openmicroscopy.org/Schemas/OME/2016-06\"><ns0:OriginalMetadata><ns0:Key>SLIDE_TYPE</ns0:Key><ns0:Value>SLIDE_TYPE_BRIGHTFIELD</ns0:Value></ns0:OriginalMetadata></ns0:Value>'},\n",
       "  {'id': 'Annotation:8',\n",
       "   'annotation_ref': [],\n",
       "   'annotator': None,\n",
       "   'description': None,\n",
       "   'namespace': 'openmicroscopy.org/OriginalMetadata',\n",
       "   'value': '<ns0:Value xmlns:ns0=\"http://www.openmicroscopy.org/Schemas/OME/2016-06\"><ns0:OriginalMetadata><ns0:Key>VIMSLIDE_CP_COLOR_BALANCE_RED</ns0:Key><ns0:Value>0</ns0:Value></ns0:OriginalMetadata></ns0:Value>'},\n",
       "  {'id': 'Annotation:9',\n",
       "   'annotation_ref': [],\n",
       "   'annotator': None,\n",
       "   'description': None,\n",
       "   'namespace': 'openmicroscopy.org/OriginalMetadata',\n",
       "   'value': '<ns0:Value xmlns:ns0=\"http://www.openmicroscopy.org/Schemas/OME/2016-06\"><ns0:OriginalMetadata><ns0:Key>SLIDE_VERSION</ns0:Key><ns0:Value>01.03</ns0:Value></ns0:OriginalMetadata></ns0:Value>'},\n",
       "  {'id': 'Annotation:10',\n",
       "   'annotation_ref': [],\n",
       "   'annotator': None,\n",
       "   'description': None,\n",
       "   'namespace': 'openmicroscopy.org/OriginalMetadata',\n",
       "   'value': '<ns0:Value xmlns:ns0=\"http://www.openmicroscopy.org/Schemas/OME/2016-06\"><ns0:OriginalMetadata><ns0:Key>SLIDE_NAME</ns0:Key><ns0:Value>None</ns0:Value></ns0:OriginalMetadata></ns0:Value>'},\n",
       "  {'id': 'Annotation:11',\n",
       "   'annotation_ref': [],\n",
       "   'annotator': None,\n",
       "   'description': None,\n",
       "   'namespace': 'openmicroscopy.org/OriginalMetadata',\n",
       "   'value': '<ns0:Value xmlns:ns0=\"http://www.openmicroscopy.org/Schemas/OME/2016-06\"><ns0:OriginalMetadata><ns0:Key>VIMSLIDE_CP_BRIGHTNESS</ns0:Key><ns0:Value>0</ns0:Value></ns0:OriginalMetadata></ns0:Value>'},\n",
       "  {'id': 'Annotation:12',\n",
       "   'annotation_ref': [],\n",
       "   'annotator': None,\n",
       "   'description': None,\n",
       "   'namespace': 'openmicroscopy.org/OriginalMetadata',\n",
       "   'value': '<ns0:Value xmlns:ns0=\"http://www.openmicroscopy.org/Schemas/OME/2016-06\"><ns0:OriginalMetadata><ns0:Key>VIMSLIDE_SLIDE_BITDEPTH</ns0:Key><ns0:Value>8</ns0:Value></ns0:OriginalMetadata></ns0:Value>'},\n",
       "  {'id': 'Annotation:13',\n",
       "   'annotation_ref': [],\n",
       "   'annotator': None,\n",
       "   'description': None,\n",
       "   'namespace': 'openmicroscopy.org/OriginalMetadata',\n",
       "   'value': '<ns0:Value xmlns:ns0=\"http://www.openmicroscopy.org/Schemas/OME/2016-06\"><ns0:OriginalMetadata><ns0:Key>SLIDE_CONTENT</ns0:Key><ns0:Value>DIGITAL_SLIDE</ns0:Value></ns0:OriginalMetadata></ns0:Value>'},\n",
       "  {'id': 'Annotation:14',\n",
       "   'annotation_ref': [],\n",
       "   'annotator': None,\n",
       "   'description': None,\n",
       "   'namespace': 'openmicroscopy.org/OriginalMetadata',\n",
       "   'value': '<ns0:Value xmlns:ns0=\"http://www.openmicroscopy.org/Schemas/OME/2016-06\"><ns0:OriginalMetadata><ns0:Key>CURRENT_SLIDE_VERSION</ns0:Key><ns0:Value>2.2</ns0:Value></ns0:OriginalMetadata></ns0:Value>'},\n",
       "  {'id': 'Annotation:15',\n",
       "   'annotation_ref': [],\n",
       "   'annotator': None,\n",
       "   'description': None,\n",
       "   'namespace': 'openmicroscopy.org/OriginalMetadata',\n",
       "   'value': '<ns0:Value xmlns:ns0=\"http://www.openmicroscopy.org/Schemas/OME/2016-06\"><ns0:OriginalMetadata><ns0:Key>CAMERA_TYPE</ns0:Key><ns0:Value>Hitachi_HV_F22CL</ns0:Value></ns0:OriginalMetadata></ns0:Value>'},\n",
       "  {'id': 'Annotation:16',\n",
       "   'annotation_ref': [],\n",
       "   'annotator': None,\n",
       "   'description': None,\n",
       "   'namespace': 'openmicroscopy.org/OriginalMetadata',\n",
       "   'value': '<ns0:Value xmlns:ns0=\"http://www.openmicroscopy.org/Schemas/OME/2016-06\"><ns0:OriginalMetadata><ns0:Key>IMAGE_OVERLAP_MICROMETERS_Y</ns0:Key><ns0:Value>0</ns0:Value></ns0:OriginalMetadata></ns0:Value>'},\n",
       "  {'id': 'Annotation:17',\n",
       "   'annotation_ref': [],\n",
       "   'annotator': None,\n",
       "   'description': None,\n",
       "   'namespace': 'openmicroscopy.org/OriginalMetadata',\n",
       "   'value': '<ns0:Value xmlns:ns0=\"http://www.openmicroscopy.org/Schemas/OME/2016-06\"><ns0:OriginalMetadata><ns0:Key>IMAGE_OVERLAP_MICROMETERS_X</ns0:Key><ns0:Value>0</ns0:Value></ns0:OriginalMetadata></ns0:Value>'},\n",
       "  {'id': 'Annotation:18',\n",
       "   'annotation_ref': [],\n",
       "   'annotator': None,\n",
       "   'description': None,\n",
       "   'namespace': 'openmicroscopy.org/OriginalMetadata',\n",
       "   'value': '<ns0:Value xmlns:ns0=\"http://www.openmicroscopy.org/Schemas/OME/2016-06\"><ns0:OriginalMetadata><ns0:Key>SLIDE_POSITION_Y</ns0:Key><ns0:Value>0</ns0:Value></ns0:OriginalMetadata></ns0:Value>'},\n",
       "  {'id': 'Annotation:19',\n",
       "   'annotation_ref': [],\n",
       "   'annotator': None,\n",
       "   'description': None,\n",
       "   'namespace': 'openmicroscopy.org/OriginalMetadata',\n",
       "   'value': '<ns0:Value xmlns:ns0=\"http://www.openmicroscopy.org/Schemas/OME/2016-06\"><ns0:OriginalMetadata><ns0:Key>SLIDE_POSITION_X</ns0:Key><ns0:Value>0</ns0:Value></ns0:OriginalMetadata></ns0:Value>'},\n",
       "  {'id': 'Annotation:20',\n",
       "   'annotation_ref': [],\n",
       "   'annotator': None,\n",
       "   'description': None,\n",
       "   'namespace': 'openmicroscopy.org/OriginalMetadata',\n",
       "   'value': '<ns0:Value xmlns:ns0=\"http://www.openmicroscopy.org/Schemas/OME/2016-06\"><ns0:OriginalMetadata><ns0:Key>VIMSLIDE_SLIDE_ROTATION</ns0:Key><ns0:Value>360</ns0:Value></ns0:OriginalMetadata></ns0:Value>'},\n",
       "  {'id': 'Annotation:21',\n",
       "   'annotation_ref': [],\n",
       "   'annotator': None,\n",
       "   'description': None,\n",
       "   'namespace': 'openmicroscopy.org/OriginalMetadata',\n",
       "   'value': '<ns0:Value xmlns:ns0=\"http://www.openmicroscopy.org/Schemas/OME/2016-06\"><ns0:OriginalMetadata><ns0:Key>VIMSLIDE_CP_CONTRAST</ns0:Key><ns0:Value>0</ns0:Value></ns0:OriginalMetadata></ns0:Value>'},\n",
       "  {'id': 'Annotation:22',\n",
       "   'annotation_ref': [],\n",
       "   'annotator': None,\n",
       "   'description': None,\n",
       "   'namespace': 'openmicroscopy.org/OriginalMetadata',\n",
       "   'value': '<ns0:Value xmlns:ns0=\"http://www.openmicroscopy.org/Schemas/OME/2016-06\"><ns0:OriginalMetadata><ns0:Key>OBJECTIVE_NAME</ns0:Key><ns0:Value>Plan-Apochromat</ns0:Value></ns0:OriginalMetadata></ns0:Value>'},\n",
       "  {'id': 'Annotation:23',\n",
       "   'annotation_ref': [],\n",
       "   'annotator': None,\n",
       "   'description': None,\n",
       "   'namespace': 'openmicroscopy.org/OriginalMetadata',\n",
       "   'value': '<ns0:Value xmlns:ns0=\"http://www.openmicroscopy.org/Schemas/OME/2016-06\"><ns0:OriginalMetadata><ns0:Key>IMAGENUMBER_Y</ns0:Key><ns0:Value>968</ns0:Value></ns0:OriginalMetadata></ns0:Value>'},\n",
       "  {'id': 'Annotation:24',\n",
       "   'annotation_ref': [],\n",
       "   'annotator': None,\n",
       "   'description': None,\n",
       "   'namespace': 'openmicroscopy.org/OriginalMetadata',\n",
       "   'value': '<ns0:Value xmlns:ns0=\"http://www.openmicroscopy.org/Schemas/OME/2016-06\"><ns0:OriginalMetadata><ns0:Key>IMAGENUMBER_X</ns0:Key><ns0:Value>336</ns0:Value></ns0:OriginalMetadata></ns0:Value>'},\n",
       "  {'id': 'Annotation:25',\n",
       "   'annotation_ref': [],\n",
       "   'annotator': None,\n",
       "   'description': None,\n",
       "   'namespace': 'openmicroscopy.org/OriginalMetadata',\n",
       "   'value': '<ns0:Value xmlns:ns0=\"http://www.openmicroscopy.org/Schemas/OME/2016-06\"><ns0:OriginalMetadata><ns0:Key>OBJECTIVE_MAGNIFICATION</ns0:Key><ns0:Value>20</ns0:Value></ns0:OriginalMetadata></ns0:Value>'},\n",
       "  {'id': 'Annotation:26',\n",
       "   'annotation_ref': [],\n",
       "   'annotator': None,\n",
       "   'description': None,\n",
       "   'namespace': 'openmicroscopy.org/OriginalMetadata',\n",
       "   'value': '<ns0:Value xmlns:ns0=\"http://www.openmicroscopy.org/Schemas/OME/2016-06\"><ns0:OriginalMetadata><ns0:Key>SLIDE_CREATIONDATETIME</ns0:Key><ns0:Value>25/10/2016 10:43:32</ns0:Value></ns0:OriginalMetadata></ns0:Value>'},\n",
       "  {'id': 'Annotation:27',\n",
       "   'annotation_ref': [],\n",
       "   'annotator': None,\n",
       "   'description': None,\n",
       "   'namespace': 'openmicroscopy.org/OriginalMetadata',\n",
       "   'value': '<ns0:Value xmlns:ns0=\"http://www.openmicroscopy.org/Schemas/OME/2016-06\"><ns0:OriginalMetadata><ns0:Key>SLIDE_CREATION_FINISHED</ns0:Key><ns0:Value>True</ns0:Value></ns0:OriginalMetadata></ns0:Value>'},\n",
       "  {'id': 'Annotation:28',\n",
       "   'annotation_ref': [],\n",
       "   'annotator': None,\n",
       "   'description': None,\n",
       "   'namespace': 'openmicroscopy.org/OriginalMetadata',\n",
       "   'value': '<ns0:Value xmlns:ns0=\"http://www.openmicroscopy.org/Schemas/OME/2016-06\"><ns0:OriginalMetadata><ns0:Key>SLIDE_ID</ns0:Key><ns0:Value>2EBDF371649E42C39410FAD49F6C6B5F</ns0:Value></ns0:OriginalMetadata></ns0:Value>'},\n",
       "  {'id': 'Annotation:29',\n",
       "   'annotation_ref': [],\n",
       "   'annotator': None,\n",
       "   'description': None,\n",
       "   'namespace': 'openmicroscopy.org/OriginalMetadata',\n",
       "   'value': '<ns0:Value xmlns:ns0=\"http://www.openmicroscopy.org/Schemas/OME/2016-06\"><ns0:OriginalMetadata><ns0:Key>ADAPTER_SIZE</ns0:Key><ns0:Value>1</ns0:Value></ns0:OriginalMetadata></ns0:Value>'}],\n",
       " 'uuid': None}"
      ]
     },
     "execution_count": 64,
     "metadata": {},
     "output_type": "execute_result"
    }
   ],
   "source": [
    "ome.dict()"
   ]
  },
  {
   "cell_type": "code",
   "execution_count": 4,
   "id": "599d0f1b",
   "metadata": {},
   "outputs": [],
   "source": [
    "import zarr"
   ]
  },
  {
   "cell_type": "code",
   "execution_count": 5,
   "id": "6fe980c6",
   "metadata": {},
   "outputs": [],
   "source": [
    "zr2 = zarr.open('/fastdata/tmp/SB001-T01-01-HE.zarr.zip', mode='r')"
   ]
  },
  {
   "cell_type": "code",
   "execution_count": 6,
   "id": "d0a9969b",
   "metadata": {},
   "outputs": [
    {
     "data": {
      "text/plain": [
       "3"
      ]
     },
     "execution_count": 6,
     "metadata": {},
     "output_type": "execute_result"
    }
   ],
   "source": [
    "zr2.attrs['bioformats2raw.layout']"
   ]
  },
  {
   "cell_type": "code",
   "execution_count": 7,
   "id": "ba8aa727",
   "metadata": {},
   "outputs": [
    {
     "data": {
      "text/plain": [
       "['0', '1', 'OME']"
      ]
     },
     "execution_count": 7,
     "metadata": {},
     "output_type": "execute_result"
    }
   ],
   "source": [
    "list(zr2.group_keys())"
   ]
  },
  {
   "cell_type": "code",
   "execution_count": 8,
   "id": "f397cbc3",
   "metadata": {},
   "outputs": [
    {
     "data": {
      "text/plain": [
       "['0', '1']"
      ]
     },
     "execution_count": 8,
     "metadata": {},
     "output_type": "execute_result"
    }
   ],
   "source": [
    "list(zr2['OME'].attrs['series'])"
   ]
  },
  {
   "cell_type": "code",
   "execution_count": 9,
   "id": "4d53226d",
   "metadata": {},
   "outputs": [
    {
     "data": {
      "text/plain": [
       "zarr.hierarchy.Group"
      ]
     },
     "execution_count": 9,
     "metadata": {},
     "output_type": "execute_result"
    }
   ],
   "source": [
    "type(zr2['/0'])"
   ]
  },
  {
   "cell_type": "code",
   "execution_count": 13,
   "id": "76d5a6ae",
   "metadata": {},
   "outputs": [
    {
     "ename": "AttributeError",
     "evalue": "",
     "output_type": "error",
     "traceback": [
      "\u001b[0;31m---------------------------------------------------------------------------\u001b[0m",
      "\u001b[0;31mKeyError\u001b[0m                                  Traceback (most recent call last)",
      "File \u001b[0;32m~/miniconda3/envs/cpath/lib/python3.11/site-packages/zarr/hierarchy.py:477\u001b[0m, in \u001b[0;36mGroup.__getattr__\u001b[0;34m(self, item)\u001b[0m\n\u001b[1;32m    476\u001b[0m \u001b[38;5;28;01mtry\u001b[39;00m:\n\u001b[0;32m--> 477\u001b[0m     \u001b[38;5;28;01mreturn\u001b[39;00m \u001b[38;5;28;43mself\u001b[39;49m\u001b[38;5;241;43m.\u001b[39;49m\u001b[38;5;21;43m__getitem__\u001b[39;49m\u001b[43m(\u001b[49m\u001b[43mitem\u001b[49m\u001b[43m)\u001b[49m\n\u001b[1;32m    478\u001b[0m \u001b[38;5;28;01mexcept\u001b[39;00m \u001b[38;5;167;01mKeyError\u001b[39;00m:\n",
      "File \u001b[0;32m~/miniconda3/envs/cpath/lib/python3.11/site-packages/zarr/hierarchy.py:458\u001b[0m, in \u001b[0;36mGroup.__getitem__\u001b[0;34m(self, item)\u001b[0m\n\u001b[1;32m    457\u001b[0m \u001b[38;5;28;01melse\u001b[39;00m:\n\u001b[0;32m--> 458\u001b[0m     \u001b[38;5;28;01mraise\u001b[39;00m \u001b[38;5;167;01mKeyError\u001b[39;00m(item)\n",
      "\u001b[0;31mKeyError\u001b[0m: '_ARRAY_DIMENSIONS'",
      "\nDuring handling of the above exception, another exception occurred:\n",
      "\u001b[0;31mAttributeError\u001b[0m                            Traceback (most recent call last)",
      "Cell \u001b[0;32mIn[13], line 1\u001b[0m\n\u001b[0;32m----> 1\u001b[0m \u001b[43mzr2\u001b[49m\u001b[43m[\u001b[49m\u001b[38;5;124;43m'\u001b[39;49m\u001b[38;5;124;43m0\u001b[39;49m\u001b[38;5;124;43m'\u001b[39;49m\u001b[43m]\u001b[49m\u001b[38;5;241;43m.\u001b[39;49m\u001b[43m_ARRAY_DIMENSIONS\u001b[49m\n",
      "File \u001b[0;32m~/miniconda3/envs/cpath/lib/python3.11/site-packages/zarr/hierarchy.py:479\u001b[0m, in \u001b[0;36mGroup.__getattr__\u001b[0;34m(self, item)\u001b[0m\n\u001b[1;32m    477\u001b[0m     \u001b[38;5;28;01mreturn\u001b[39;00m \u001b[38;5;28mself\u001b[39m\u001b[38;5;241m.\u001b[39m\u001b[38;5;21m__getitem__\u001b[39m(item)\n\u001b[1;32m    478\u001b[0m \u001b[38;5;28;01mexcept\u001b[39;00m \u001b[38;5;167;01mKeyError\u001b[39;00m:\n\u001b[0;32m--> 479\u001b[0m     \u001b[38;5;28;01mraise\u001b[39;00m \u001b[38;5;167;01mAttributeError\u001b[39;00m\n",
      "\u001b[0;31mAttributeError\u001b[0m: "
     ]
    }
   ],
   "source": [
    "zr2['0']._ARRAY_DIMENSIONS"
   ]
  },
  {
   "cell_type": "code",
   "execution_count": 121,
   "id": "8d329c8a",
   "metadata": {},
   "outputs": [
    {
     "data": {
      "text/plain": [
       "{'channels': [{'color': 'FF0000',\n",
       "   'coefficient': 1,\n",
       "   'active': True,\n",
       "   'label': 'Channel 0',\n",
       "   'window': {'min': 0.0, 'max': 255.0, 'start': 0.0, 'end': 255.0},\n",
       "   'family': 'linear',\n",
       "   'inverted': False},\n",
       "  {'color': '00FF00',\n",
       "   'coefficient': 1,\n",
       "   'active': True,\n",
       "   'label': 'Channel 1',\n",
       "   'window': {'min': 0.0, 'max': 255.0, 'start': 0.0, 'end': 255.0},\n",
       "   'family': 'linear',\n",
       "   'inverted': False},\n",
       "  {'color': '0000FF',\n",
       "   'coefficient': 1,\n",
       "   'active': True,\n",
       "   'label': 'Channel 2',\n",
       "   'window': {'min': 0.0, 'max': 255.0, 'start': 0.0, 'end': 255.0},\n",
       "   'family': 'linear',\n",
       "   'inverted': False}],\n",
       " 'rdefs': {'defaultT': 0, 'model': 'color', 'defaultZ': 0}}"
      ]
     },
     "execution_count": 121,
     "metadata": {},
     "output_type": "execute_result"
    }
   ],
   "source": [
    "zr2['/0'].attrs['omero']"
   ]
  },
  {
   "cell_type": "code",
   "execution_count": 1,
   "id": "c83346ed",
   "metadata": {},
   "outputs": [
    {
     "ename": "NameError",
     "evalue": "name 'zr2' is not defined",
     "output_type": "error",
     "traceback": [
      "\u001b[0;31m---------------------------------------------------------------------------\u001b[0m",
      "\u001b[0;31mNameError\u001b[0m                                 Traceback (most recent call last)",
      "Cell \u001b[0;32mIn[1], line 1\u001b[0m\n\u001b[0;32m----> 1\u001b[0m \u001b[43mzr2\u001b[49m[\u001b[38;5;124m'\u001b[39m\u001b[38;5;124m0\u001b[39m\u001b[38;5;124m'\u001b[39m][\u001b[38;5;124m'\u001b[39m\u001b[38;5;124m1\u001b[39m\u001b[38;5;124m'\u001b[39m]\u001b[38;5;241m.\u001b[39mshape\n",
      "\u001b[0;31mNameError\u001b[0m: name 'zr2' is not defined"
     ]
    }
   ],
   "source": [
    "zr2['0']['1'].shape"
   ]
  },
  {
   "cell_type": "code",
   "execution_count": 131,
   "id": "61716b68",
   "metadata": {},
   "outputs": [
    {
     "data": {
      "text/plain": [
       "['0', '1', '10', '2', '3', '4', '5', '6', '7', '8', '9']"
      ]
     },
     "execution_count": 131,
     "metadata": {},
     "output_type": "execute_result"
    }
   ],
   "source": [
    "list(zr2['0'].array_keys())"
   ]
  },
  {
   "cell_type": "code",
   "execution_count": 128,
   "id": "2b38e6a8",
   "metadata": {},
   "outputs": [
    {
     "data": {
      "text/plain": [
       "{'metadata': {'method': 'loci.common.image.SimpleImageScaler',\n",
       "  'version': 'Bio-Formats 6.12.0'},\n",
       " 'axes': [{'name': 't', 'type': 'time'},\n",
       "  {'name': 'c', 'type': 'channel'},\n",
       "  {'name': 'z', 'type': 'space'},\n",
       "  {'unit': 'micrometer', 'name': 'y', 'type': 'space'},\n",
       "  {'unit': 'micrometer', 'name': 'x', 'type': 'space'}],\n",
       " 'name': '20x',\n",
       " 'datasets': [{'path': '0',\n",
       "   'coordinateTransformations': [{'scale': [1.0,\n",
       "      1.0,\n",
       "      1.0,\n",
       "      0.234330708661417,\n",
       "      0.23387573964497],\n",
       "     'type': 'scale'}]},\n",
       "  {'path': '1',\n",
       "   'coordinateTransformations': [{'scale': [1.0,\n",
       "      1.0,\n",
       "      1.0,\n",
       "      0.468661417322834,\n",
       "      0.46775147928994],\n",
       "     'type': 'scale'}]},\n",
       "  {'path': '2',\n",
       "   'coordinateTransformations': [{'scale': [1.0,\n",
       "      1.0,\n",
       "      1.0,\n",
       "      0.937322834645668,\n",
       "      0.93550295857988],\n",
       "     'type': 'scale'}]},\n",
       "  {'path': '3',\n",
       "   'coordinateTransformations': [{'scale': [1.0,\n",
       "      1.0,\n",
       "      1.0,\n",
       "      1.874645669291336,\n",
       "      1.87100591715976],\n",
       "     'type': 'scale'}]},\n",
       "  {'path': '4',\n",
       "   'coordinateTransformations': [{'scale': [1.0,\n",
       "      1.0,\n",
       "      1.0,\n",
       "      3.749291338582672,\n",
       "      3.74201183431952],\n",
       "     'type': 'scale'}]},\n",
       "  {'path': '5',\n",
       "   'coordinateTransformations': [{'scale': [1.0,\n",
       "      1.0,\n",
       "      1.0,\n",
       "      7.498582677165344,\n",
       "      7.48402366863904],\n",
       "     'type': 'scale'}]},\n",
       "  {'path': '6',\n",
       "   'coordinateTransformations': [{'scale': [1.0,\n",
       "      1.0,\n",
       "      1.0,\n",
       "      14.997165354330688,\n",
       "      14.96804733727808],\n",
       "     'type': 'scale'}]},\n",
       "  {'path': '7',\n",
       "   'coordinateTransformations': [{'scale': [1.0,\n",
       "      1.0,\n",
       "      1.0,\n",
       "      29.994330708661376,\n",
       "      29.93609467455616],\n",
       "     'type': 'scale'}]},\n",
       "  {'path': '8',\n",
       "   'coordinateTransformations': [{'scale': [1.0,\n",
       "      1.0,\n",
       "      1.0,\n",
       "      59.98866141732275,\n",
       "      59.87218934911232],\n",
       "     'type': 'scale'}]},\n",
       "  {'path': '9',\n",
       "   'coordinateTransformations': [{'scale': [1.0,\n",
       "      1.0,\n",
       "      1.0,\n",
       "      119.9773228346455,\n",
       "      119.74437869822464],\n",
       "     'type': 'scale'}]},\n",
       "  {'path': '10',\n",
       "   'coordinateTransformations': [{'scale': [1.0,\n",
       "      1.0,\n",
       "      1.0,\n",
       "      239.954645669291,\n",
       "      239.48875739644927],\n",
       "     'type': 'scale'}]}],\n",
       " 'version': '0.4'}"
      ]
     },
     "execution_count": 128,
     "metadata": {},
     "output_type": "execute_result"
    }
   ],
   "source": [
    "zr2['0'].attrs['multiscales'][0]"
   ]
  },
  {
   "cell_type": "code",
   "execution_count": 112,
   "id": "d4420774",
   "metadata": {},
   "outputs": [
    {
     "data": {
      "text/plain": [
       "[{'path': '0',\n",
       "  'coordinateTransformations': [{'scale': [1.0,\n",
       "     1.0,\n",
       "     1.0,\n",
       "     0.234330708661417,\n",
       "     0.23387573964497],\n",
       "    'type': 'scale'}]},\n",
       " {'path': '1',\n",
       "  'coordinateTransformations': [{'scale': [1.0,\n",
       "     1.0,\n",
       "     1.0,\n",
       "     0.468661417322834,\n",
       "     0.46775147928994],\n",
       "    'type': 'scale'}]},\n",
       " {'path': '2',\n",
       "  'coordinateTransformations': [{'scale': [1.0,\n",
       "     1.0,\n",
       "     1.0,\n",
       "     0.937322834645668,\n",
       "     0.93550295857988],\n",
       "    'type': 'scale'}]},\n",
       " {'path': '3',\n",
       "  'coordinateTransformations': [{'scale': [1.0,\n",
       "     1.0,\n",
       "     1.0,\n",
       "     1.874645669291336,\n",
       "     1.87100591715976],\n",
       "    'type': 'scale'}]},\n",
       " {'path': '4',\n",
       "  'coordinateTransformations': [{'scale': [1.0,\n",
       "     1.0,\n",
       "     1.0,\n",
       "     3.749291338582672,\n",
       "     3.74201183431952],\n",
       "    'type': 'scale'}]},\n",
       " {'path': '5',\n",
       "  'coordinateTransformations': [{'scale': [1.0,\n",
       "     1.0,\n",
       "     1.0,\n",
       "     7.498582677165344,\n",
       "     7.48402366863904],\n",
       "    'type': 'scale'}]},\n",
       " {'path': '6',\n",
       "  'coordinateTransformations': [{'scale': [1.0,\n",
       "     1.0,\n",
       "     1.0,\n",
       "     14.997165354330688,\n",
       "     14.96804733727808],\n",
       "    'type': 'scale'}]},\n",
       " {'path': '7',\n",
       "  'coordinateTransformations': [{'scale': [1.0,\n",
       "     1.0,\n",
       "     1.0,\n",
       "     29.994330708661376,\n",
       "     29.93609467455616],\n",
       "    'type': 'scale'}]},\n",
       " {'path': '8',\n",
       "  'coordinateTransformations': [{'scale': [1.0,\n",
       "     1.0,\n",
       "     1.0,\n",
       "     59.98866141732275,\n",
       "     59.87218934911232],\n",
       "    'type': 'scale'}]},\n",
       " {'path': '9',\n",
       "  'coordinateTransformations': [{'scale': [1.0,\n",
       "     1.0,\n",
       "     1.0,\n",
       "     119.9773228346455,\n",
       "     119.74437869822464],\n",
       "    'type': 'scale'}]},\n",
       " {'path': '10',\n",
       "  'coordinateTransformations': [{'scale': [1.0,\n",
       "     1.0,\n",
       "     1.0,\n",
       "     239.954645669291,\n",
       "     239.48875739644927],\n",
       "    'type': 'scale'}]}]"
      ]
     },
     "execution_count": 112,
     "metadata": {},
     "output_type": "execute_result"
    }
   ],
   "source": [
    "zr2['0'].attrs['multiscales'][0]['datasets']"
   ]
  },
  {
   "cell_type": "code",
   "execution_count": 91,
   "id": "e332fbb1",
   "metadata": {},
   "outputs": [],
   "source": [
    "import re"
   ]
  },
  {
   "cell_type": "code",
   "execution_count": 107,
   "id": "4fd48547",
   "metadata": {},
   "outputs": [
    {
     "data": {
      "text/plain": [
       "2.0"
      ]
     },
     "execution_count": 107,
     "metadata": {},
     "output_type": "execute_result"
    }
   ],
   "source": [
    "float(re.split(\"x\", \"2.0x\")[0])"
   ]
  },
  {
   "cell_type": "code",
   "execution_count": 95,
   "id": "a960a9a8",
   "metadata": {},
   "outputs": [
    {
     "name": "stdout",
     "output_type": "stream",
     "text": [
      "Help on function match in module re:\n",
      "\n",
      "match(pattern, string, flags=0)\n",
      "    Try to apply the pattern at the start of the string, returning\n",
      "    a Match object, or None if no match was found.\n",
      "\n"
     ]
    }
   ],
   "source": [
    "help(re.match)"
   ]
  },
  {
   "cell_type": "code",
   "execution_count": 109,
   "id": "e3ee1470",
   "metadata": {},
   "outputs": [
    {
     "data": {
      "text/plain": [
       "2"
      ]
     },
     "execution_count": 109,
     "metadata": {},
     "output_type": "execute_result"
    }
   ],
   "source": [
    "round(0.468661417322834/0.234330708661417)"
   ]
  },
  {
   "cell_type": "code",
   "execution_count": 120,
   "id": "370e20ee",
   "metadata": {},
   "outputs": [
    {
     "name": "stdout",
     "output_type": "stream",
     "text": [
      "Help on built-in function round in module builtins:\n",
      "\n",
      "round(number, ndigits=None)\n",
      "    Round a number to a given precision in decimal digits.\n",
      "    \n",
      "    The return value is an integer if ndigits is omitted or None.  Otherwise\n",
      "    the return value has the same type as the number.  ndigits may be negative.\n",
      "\n"
     ]
    }
   ],
   "source": [
    "help(round)"
   ]
  }
 ],
 "metadata": {
  "kernelspec": {
   "display_name": "Python 3 (ipykernel)",
   "language": "python",
   "name": "python3"
  },
  "language_info": {
   "codemirror_mode": {
    "name": "ipython",
    "version": 3
   },
   "file_extension": ".py",
   "mimetype": "text/x-python",
   "name": "python",
   "nbconvert_exporter": "python",
   "pygments_lexer": "ipython3",
   "version": "3.11.0"
  }
 },
 "nbformat": 4,
 "nbformat_minor": 5
}

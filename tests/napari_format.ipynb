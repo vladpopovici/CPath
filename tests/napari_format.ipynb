{
 "cells": [
  {
   "cell_type": "code",
   "execution_count": 2,
   "id": "aae7a1ea",
   "metadata": {},
   "outputs": [],
   "source": [
    "import numpy as np\n",
    "import tifffile\n",
    "import zarr\n",
    "import dask.array as da\n",
    "import pyometiff\n",
    "from contextlib import redirect_stdout\n",
    "\n",
    "from dask.cache import Cache\n",
    "cache = Cache(4e9)  # Leverage 4 gigabytes of memory\n",
    "cache.register()\n"
   ]
  },
  {
   "cell_type": "code",
   "execution_count": 3,
   "id": "f640f9a4",
   "metadata": {},
   "outputs": [
    {
     "name": "stdout",
     "output_type": "stream",
     "text": [
      "Pyramid shapes:\n",
      "(170180, 88218, 3)\n",
      "(85090, 44109, 3)\n",
      "(42545, 22054, 3)\n",
      "(21272, 11027, 3)\n",
      "(10636, 5513, 3)\n",
      "(5318, 2756, 3)\n",
      "(2659, 1378, 3)\n",
      "(1329, 689, 3)\n",
      "(664, 344, 3)\n",
      "(332, 172, 3)\n",
      "(166, 86, 3)\n"
     ]
    }
   ],
   "source": [
    "path = '/fastdata/tmp/SB001-T01-01-HE.ome.tiff'\n",
    "tif = tifffile.TiffFile(str(path))\n",
    "if not tif.is_ome:\n",
    "    raise RuntimeError(\"only OME TIFF files are accepted.\")\n",
    "\n",
    "ome = pyometiff.OMETIFFReader(fpath=str(path))\n",
    "ome.omexml_string = tif.ome_metadata  # work-around a bug in pyometiff\n",
    "with redirect_stdout(None): # to avoid messages about not found keys\n",
    "    info = ome.parse_metadata(tif.ome_metadata)\n",
    "\n",
    "# axes: identify singletons and remove from axes annotation\n",
    "axes = ''.join(\n",
    "    [a for a in list(info['DimOrder']) if info['Size' + a] > 1]\n",
    ").lower() # -> something like 'cyx'\n",
    "\n",
    "# axes of interest\n",
    "axes_order = {\n",
    "    'c': list(axes).index('c'), \n",
    "    'y': list(axes).index('y'),\n",
    "    'x': list(axes).index('x'),\n",
    "    } # just X, Y, C\n",
    "\n",
    "tif = tifffile.imread(path, aszarr=True)\n",
    "if not tif.is_multiscales:\n",
    "    raise RuntimeError(\"only pyramidal images are accepted.\")\n",
    "\n",
    "if info['PhysicalSizeXUnit'] == 'µm':\n",
    "    unit_multiplier_x = 1.0 \n",
    "elif info['PhysicalSizeXUnit'] == 'mm': \n",
    "    unit_multiplier_x = 1000.0\n",
    "else:\n",
    "    unit_multiplier_x = 1.0\n",
    "    raise RuntimeWarning('unknown unit for resolution (X)')\n",
    "\n",
    "if info['PhysicalSizeYUnit'] == 'µm':\n",
    "    unit_multiplier_y = 1.0 \n",
    "elif info['PhysicalSizeYUnit'] == 'mm': \n",
    "    unit_multiplier_y = 1000.0\n",
    "else:\n",
    "    unit_multiplier_y = 1.0\n",
    "    raise RuntimeWarning('unknown unit for resolution (Y)')\n",
    "\n",
    "base_mpp_x = unit_multiplier_x * info['PhysicalSizeX']  # in microns per pixel\n",
    "base_mpp_y = unit_multiplier_y * info['PhysicalSizeY']\n",
    "\n",
    "pyramid = None\n",
    "with zarr.open(tif, mode='r') as z:\n",
    "    n_levels = len(list(z.array_keys()))\n",
    "    pyramid = [\n",
    "        da.moveaxis( \n",
    "            da.from_zarr(z[i]), [axes_order['y'], axes_order['x'], axes_order['c']], [0, 1, 2] \n",
    "        ) \n",
    "        for i in range(n_levels)\n",
    "        ]\n",
    "metadata = {\n",
    "#        'rgb': True,\n",
    "    'channel_axis': 2,\n",
    "    'contrast_limits': (0, 255),\n",
    "    'multiscale': True,\n",
    "}\n",
    "\n",
    "layer_type = \"image\"  \n",
    "print(\"Pyramid shapes:\")\n",
    "for p in pyramid:\n",
    "    print(p.shape)"
   ]
  },
  {
   "cell_type": "code",
   "execution_count": 4,
   "id": "e1b74bbf",
   "metadata": {},
   "outputs": [
    {
     "data": {
      "text/plain": [
       "dtype('uint8')"
      ]
     },
     "execution_count": 4,
     "metadata": {},
     "output_type": "execute_result"
    }
   ],
   "source": [
    "pyramid[0].dtype"
   ]
  },
  {
   "cell_type": "code",
   "execution_count": null,
   "id": "4e3c1ff4",
   "metadata": {},
   "outputs": [],
   "source": []
  }
 ],
 "metadata": {
  "kernelspec": {
   "display_name": "Python 3 (ipykernel)",
   "language": "python",
   "name": "python3"
  },
  "language_info": {
   "codemirror_mode": {
    "name": "ipython",
    "version": 3
   },
   "file_extension": ".py",
   "mimetype": "text/x-python",
   "name": "python",
   "nbconvert_exporter": "python",
   "pygments_lexer": "ipython3",
   "version": "3.11.0"
  }
 },
 "nbformat": 4,
 "nbformat_minor": 5
}

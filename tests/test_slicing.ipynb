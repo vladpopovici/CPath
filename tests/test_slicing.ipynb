{
 "cells": [
  {
   "cell_type": "code",
   "execution_count": 1,
   "id": "819234a8",
   "metadata": {},
   "outputs": [],
   "source": [
    "import numpy as np"
   ]
  },
  {
   "cell_type": "code",
   "execution_count": 2,
   "id": "d445e428",
   "metadata": {},
   "outputs": [],
   "source": [
    "def expandSlicing(s, shape):\n",
    "    \"\"\"\n",
    "    Args:\n",
    "        s: Anything that can be used as a numpy array index:\n",
    "           - int\n",
    "           - slice\n",
    "           - Ellipsis (i.e. ...)\n",
    "           - Some combo of the above as a tuple or list\n",
    "\n",
    "        shape: The shape of the array that will be accessed\n",
    "\n",
    "    Returns:\n",
    "        A tuple of length N where N=len(shape)\n",
    "        slice(None) is inserted in missing positions so as not to change the meaning of the slicing.\n",
    "        e.g. if shape=(1,2,3,4,5):\n",
    "            0 --> (0,:,:,:,:)\n",
    "            (0:1) --> (0:1,:,:,:,:)\n",
    "            : --> (:,:,:,:,:)\n",
    "            ... --> (:,:,:,:,:)\n",
    "            (0,0,...,4) --> (0,0,:,:,4)\n",
    "    \"\"\"\n",
    "    if type(s) == list:\n",
    "        s = tuple(s)\n",
    "    if type(s) != tuple:\n",
    "        # Convert : to (:,), or 5 to (5,)\n",
    "        s = (s,)\n",
    "\n",
    "    # Compute number of axes missing from the slicing\n",
    "    if len(shape) - len(s) < 0:\n",
    "        assert s == (Ellipsis,) or s == (slice(None),), \\\n",
    "            \"Slicing must not have more elements than the shape, except for [:] and [...] slices.\\n\" \\\n",
    "            \"Your slicing: {}, your shape: {}\".format(s, shape)\n",
    "\n",
    "        # Replace Ellipsis with (:,:,:)\n",
    "    if Ellipsis in s:\n",
    "        ei = s.index(Ellipsis)  # Ellipsis Index\n",
    "        s = s[0:ei] + (len(shape) - len(s) + 1) * (slice(None),) + s[ei + 1:]\n",
    "\n",
    "    # Append (:,) until we get the right length\n",
    "    s += (len(shape) - len(s)) * (slice(None),)\n",
    "\n",
    "    # Special case: we allow [:] and [...] for empty shapes ()\n",
    "    if shape == ():\n",
    "        s = ()\n",
    "\n",
    "    return s\n",
    "\n",
    "\n",
    "sTrl1 = lambda x: x if type(x) != slice else x.start if x.start != None else 0\n",
    "sTrl2 = lambda x, y: y if type(y) != slice else y.stop if y.stop != None else x\n",
    "sTrl3 = lambda x, y: y + 1 if x == y else y\n"
   ]
  },
  {
   "cell_type": "code",
   "execution_count": 5,
   "id": "1b5553c6",
   "metadata": {},
   "outputs": [],
   "source": [
    "sh = (1, 3, 1, 85090, 44109)\n",
    "idx = {'t':0, 'c':1, 'z':2, 'y':3, 'x':4}"
   ]
  },
  {
   "cell_type": "code",
   "execution_count": 8,
   "id": "ade38b25",
   "metadata": {},
   "outputs": [
    {
     "data": {
      "text/plain": [
       "(0, 2, slice(None, None, None), 10, 5)"
      ]
     },
     "execution_count": 8,
     "metadata": {},
     "output_type": "execute_result"
    }
   ],
   "source": [
    "expandSlicing((0,2,...,10,5), sh)"
   ]
  },
  {
   "cell_type": "code",
   "execution_count": 9,
   "id": "983ec3a7",
   "metadata": {
    "scrolled": true
   },
   "outputs": [
    {
     "name": "stdout",
     "output_type": "stream",
     "text": [
      "Help on class slice in module builtins:\n",
      "\n",
      "class slice(object)\n",
      " |  slice(stop)\n",
      " |  slice(start, stop[, step])\n",
      " |  \n",
      " |  Create a slice object.  This is used for extended slicing (e.g. a[0:10:2]).\n",
      " |  \n",
      " |  Methods defined here:\n",
      " |  \n",
      " |  __eq__(self, value, /)\n",
      " |      Return self==value.\n",
      " |  \n",
      " |  __ge__(self, value, /)\n",
      " |      Return self>=value.\n",
      " |  \n",
      " |  __getattribute__(self, name, /)\n",
      " |      Return getattr(self, name).\n",
      " |  \n",
      " |  __gt__(self, value, /)\n",
      " |      Return self>value.\n",
      " |  \n",
      " |  __le__(self, value, /)\n",
      " |      Return self<=value.\n",
      " |  \n",
      " |  __lt__(self, value, /)\n",
      " |      Return self<value.\n",
      " |  \n",
      " |  __ne__(self, value, /)\n",
      " |      Return self!=value.\n",
      " |  \n",
      " |  __reduce__(...)\n",
      " |      Return state information for pickling.\n",
      " |  \n",
      " |  __repr__(self, /)\n",
      " |      Return repr(self).\n",
      " |  \n",
      " |  indices(...)\n",
      " |      S.indices(len) -> (start, stop, stride)\n",
      " |      \n",
      " |      Assuming a sequence of length len, calculate the start and stop\n",
      " |      indices, and the stride length of the extended slice described by\n",
      " |      S. Out of bounds indices are clipped in a manner consistent with the\n",
      " |      handling of normal slices.\n",
      " |  \n",
      " |  ----------------------------------------------------------------------\n",
      " |  Static methods defined here:\n",
      " |  \n",
      " |  __new__(*args, **kwargs) from builtins.type\n",
      " |      Create and return a new object.  See help(type) for accurate signature.\n",
      " |  \n",
      " |  ----------------------------------------------------------------------\n",
      " |  Data descriptors defined here:\n",
      " |  \n",
      " |  start\n",
      " |  \n",
      " |  step\n",
      " |  \n",
      " |  stop\n",
      " |  \n",
      " |  ----------------------------------------------------------------------\n",
      " |  Data and other attributes defined here:\n",
      " |  \n",
      " |  __hash__ = None\n",
      "\n"
     ]
    }
   ],
   "source": [
    "help(slice)"
   ]
  },
  {
   "cell_type": "code",
   "execution_count": 12,
   "id": "95207e91",
   "metadata": {},
   "outputs": [],
   "source": [
    "sh = (1,3,1,10,20)\n",
    "x = np.array(np.arange(600)).reshape(sh)"
   ]
  },
  {
   "cell_type": "code",
   "execution_count": 13,
   "id": "58b1b5fb",
   "metadata": {},
   "outputs": [
    {
     "data": {
      "text/plain": [
       "(1, 3, 1, 10, 20)"
      ]
     },
     "execution_count": 13,
     "metadata": {},
     "output_type": "execute_result"
    }
   ],
   "source": [
    "x.shape"
   ]
  },
  {
   "cell_type": "code",
   "execution_count": 14,
   "id": "cab4ed22",
   "metadata": {},
   "outputs": [],
   "source": [
    "i = slice(2, 5)\n",
    "j = slice(3, 15, 3)"
   ]
  },
  {
   "cell_type": "code",
   "execution_count": 18,
   "id": "0fe50405",
   "metadata": {},
   "outputs": [
    {
     "data": {
      "text/plain": [
       "array([[[ 43,  46,  49,  52],\n",
       "        [ 63,  66,  69,  72],\n",
       "        [ 83,  86,  89,  92]],\n",
       "\n",
       "       [[243, 246, 249, 252],\n",
       "        [263, 266, 269, 272],\n",
       "        [283, 286, 289, 292]],\n",
       "\n",
       "       [[443, 446, 449, 452],\n",
       "        [463, 466, 469, 472],\n",
       "        [483, 486, 489, 492]]])"
      ]
     },
     "execution_count": 18,
     "metadata": {},
     "output_type": "execute_result"
    }
   ],
   "source": [
    "x[0,:,0,i,j]"
   ]
  },
  {
   "cell_type": "code",
   "execution_count": 21,
   "id": "861abbbc",
   "metadata": {},
   "outputs": [
    {
     "data": {
      "text/plain": [
       "array([[[ 43,  46,  49,  52],\n",
       "        [ 63,  66,  69,  72],\n",
       "        [ 83,  86,  89,  92]],\n",
       "\n",
       "       [[243, 246, 249, 252],\n",
       "        [263, 266, 269, 272],\n",
       "        [283, 286, 289, 292]],\n",
       "\n",
       "       [[443, 446, 449, 452],\n",
       "        [463, 466, 469, 472],\n",
       "        [483, 486, 489, 492]]])"
      ]
     },
     "execution_count": 21,
     "metadata": {},
     "output_type": "execute_result"
    }
   ],
   "source": [
    "k = [0,0,0,0,0]\n",
    "k[idx['x']] = j\n",
    "k[idx['y']] = i\n",
    "k[idx['c']] = ...\n",
    "x[tuple(k)]"
   ]
  },
  {
   "cell_type": "code",
   "execution_count": 33,
   "id": "e12a491f",
   "metadata": {},
   "outputs": [
    {
     "data": {
      "text/plain": [
       "2"
      ]
     },
     "execution_count": 33,
     "metadata": {},
     "output_type": "execute_result"
    }
   ],
   "source": [
    "'tczyx'.index('z')"
   ]
  },
  {
   "cell_type": "code",
   "execution_count": 34,
   "id": "71df2ffb",
   "metadata": {},
   "outputs": [
    {
     "data": {
      "text/plain": [
       "(1, 3, 1, 10, 20)"
      ]
     },
     "execution_count": 34,
     "metadata": {},
     "output_type": "execute_result"
    }
   ],
   "source": [
    "x.shape"
   ]
  },
  {
   "cell_type": "code",
   "execution_count": 35,
   "id": "3f00302f",
   "metadata": {
    "scrolled": true
   },
   "outputs": [
    {
     "name": "stdout",
     "output_type": "stream",
     "text": [
      "Help on function moveaxis in module numpy:\n",
      "\n",
      "moveaxis(a, source, destination)\n",
      "    Move axes of an array to new positions.\n",
      "    \n",
      "    Other axes remain in their original order.\n",
      "    \n",
      "    .. versionadded:: 1.11.0\n",
      "    \n",
      "    Parameters\n",
      "    ----------\n",
      "    a : np.ndarray\n",
      "        The array whose axes should be reordered.\n",
      "    source : int or sequence of int\n",
      "        Original positions of the axes to move. These must be unique.\n",
      "    destination : int or sequence of int\n",
      "        Destination positions for each of the original axes. These must also be\n",
      "        unique.\n",
      "    \n",
      "    Returns\n",
      "    -------\n",
      "    result : np.ndarray\n",
      "        Array with moved axes. This array is a view of the input array.\n",
      "    \n",
      "    See Also\n",
      "    --------\n",
      "    transpose : Permute the dimensions of an array.\n",
      "    swapaxes : Interchange two axes of an array.\n",
      "    \n",
      "    Examples\n",
      "    --------\n",
      "    >>> x = np.zeros((3, 4, 5))\n",
      "    >>> np.moveaxis(x, 0, -1).shape\n",
      "    (4, 5, 3)\n",
      "    >>> np.moveaxis(x, -1, 0).shape\n",
      "    (5, 3, 4)\n",
      "    \n",
      "    These all achieve the same result:\n",
      "    \n",
      "    >>> np.transpose(x).shape\n",
      "    (5, 4, 3)\n",
      "    >>> np.swapaxes(x, 0, -1).shape\n",
      "    (5, 4, 3)\n",
      "    >>> np.moveaxis(x, [0, 1], [-1, -2]).shape\n",
      "    (5, 4, 3)\n",
      "    >>> np.moveaxis(x, [0, 1, 2], [-1, -2, -3]).shape\n",
      "    (5, 4, 3)\n",
      "\n"
     ]
    }
   ],
   "source": [
    "help(np.moveaxis)"
   ]
  },
  {
   "cell_type": "code",
   "execution_count": 36,
   "id": "8f4d770a",
   "metadata": {},
   "outputs": [],
   "source": [
    "z = np.moveaxis(x, [0,1,2,3,4], [4,2,3,0,1] )"
   ]
  },
  {
   "cell_type": "code",
   "execution_count": 37,
   "id": "c7e9567d",
   "metadata": {},
   "outputs": [
    {
     "data": {
      "text/plain": [
       "(10, 20, 3, 1, 1)"
      ]
     },
     "execution_count": 37,
     "metadata": {},
     "output_type": "execute_result"
    }
   ],
   "source": [
    "z.shape"
   ]
  },
  {
   "cell_type": "code",
   "execution_count": 38,
   "id": "01090638",
   "metadata": {},
   "outputs": [
    {
     "ename": "SyntaxError",
     "evalue": "invalid syntax (1028115323.py, line 1)",
     "output_type": "error",
     "traceback": [
      "\u001b[0;36m  Cell \u001b[0;32mIn[38], line 1\u001b[0;36m\u001b[0m\n\u001b[0;31m    slice(1:5)\u001b[0m\n\u001b[0m           ^\u001b[0m\n\u001b[0;31mSyntaxError\u001b[0m\u001b[0;31m:\u001b[0m invalid syntax\n"
     ]
    }
   ],
   "source": [
    "slice(1:5)"
   ]
  },
  {
   "cell_type": "code",
   "execution_count": null,
   "id": "8f09b50d",
   "metadata": {},
   "outputs": [],
   "source": []
  }
 ],
 "metadata": {
  "kernelspec": {
   "display_name": "Python 3 (ipykernel)",
   "language": "python",
   "name": "python3"
  },
  "language_info": {
   "codemirror_mode": {
    "name": "ipython",
    "version": 3
   },
   "file_extension": ".py",
   "mimetype": "text/x-python",
   "name": "python",
   "nbconvert_exporter": "python",
   "pygments_lexer": "ipython3",
   "version": "3.11.0"
  }
 },
 "nbformat": 4,
 "nbformat_minor": 5
}
